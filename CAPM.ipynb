{
 "cells": [
  {
   "cell_type": "code",
   "execution_count": 1,
   "metadata": {},
   "outputs": [
    {
     "name": "stdout",
     "output_type": "stream",
     "text": [
      "The portfolio beta is 1.09\n"
     ]
    }
   ],
   "source": [
    "import numpy as np\n",
    "\n",
    "beta52 = [1.38, 0.47, 1.02]\n",
    "investment = [5, 2, 3]\n",
    "\n",
    "sumOfInvestment = sum(investment)\n",
    "weights = [ w/sumOfInvestment for w in investment ]\n",
    "\n",
    "beta = np.dot(beta52, weights)\n",
    "\n",
    "print('The portfolio beta is {0:0.2f}'.format(beta))"
   ]
  },
  {
   "cell_type": "code",
   "execution_count": 2,
   "metadata": {},
   "outputs": [
    {
     "name": "stdout",
     "output_type": "stream",
     "text": [
      "The expection return of the portfolio is 10.54\n"
     ]
    }
   ],
   "source": [
    "beta = 1.09\n",
    "rf = 4\n",
    "marketReturn = 10\n",
    "\n",
    "expReturnPortfolio = rf + (marketReturn - rf) * beta\n",
    "\n",
    "print('The expection return of the portfolio is {0:0.2f}'.format(expReturnPortfolio))"
   ]
  },
  {
   "cell_type": "code",
   "execution_count": 3,
   "metadata": {},
   "outputs": [
    {
     "data": {
      "text/html": [
       "<div>\n",
       "<style scoped>\n",
       "    .dataframe tbody tr th:only-of-type {\n",
       "        vertical-align: middle;\n",
       "    }\n",
       "\n",
       "    .dataframe tbody tr th {\n",
       "        vertical-align: top;\n",
       "    }\n",
       "\n",
       "    .dataframe thead th {\n",
       "        text-align: right;\n",
       "    }\n",
       "</style>\n",
       "<table border=\"1\" class=\"dataframe\">\n",
       "  <thead>\n",
       "    <tr style=\"text-align: right;\">\n",
       "      <th></th>\n",
       "      <th>Date</th>\n",
       "      <th>KOSPI</th>\n",
       "      <th>PortA</th>\n",
       "      <th>PortB</th>\n",
       "    </tr>\n",
       "  </thead>\n",
       "  <tbody>\n",
       "    <tr>\n",
       "      <th>0</th>\n",
       "      <td>2014-04-08</td>\n",
       "      <td>1993.03</td>\n",
       "      <td>1058.29</td>\n",
       "      <td>1008.29</td>\n",
       "    </tr>\n",
       "    <tr>\n",
       "      <th>1</th>\n",
       "      <td>2014-04-09</td>\n",
       "      <td>1998.95</td>\n",
       "      <td>1058.77</td>\n",
       "      <td>1008.85</td>\n",
       "    </tr>\n",
       "    <tr>\n",
       "      <th>2</th>\n",
       "      <td>2014-04-10</td>\n",
       "      <td>2008.61</td>\n",
       "      <td>1059.77</td>\n",
       "      <td>1010.05</td>\n",
       "    </tr>\n",
       "    <tr>\n",
       "      <th>3</th>\n",
       "      <td>2014-04-11</td>\n",
       "      <td>1997.44</td>\n",
       "      <td>1058.78</td>\n",
       "      <td>1008.86</td>\n",
       "    </tr>\n",
       "    <tr>\n",
       "      <th>4</th>\n",
       "      <td>2014-04-12</td>\n",
       "      <td>1997.44</td>\n",
       "      <td>1060.70</td>\n",
       "      <td>1010.96</td>\n",
       "    </tr>\n",
       "  </tbody>\n",
       "</table>\n",
       "</div>"
      ],
      "text/plain": [
       "         Date    KOSPI    PortA    PortB\n",
       "0  2014-04-08  1993.03  1058.29  1008.29\n",
       "1  2014-04-09  1998.95  1058.77  1008.85\n",
       "2  2014-04-10  2008.61  1059.77  1010.05\n",
       "3  2014-04-11  1997.44  1058.78  1008.86\n",
       "4  2014-04-12  1997.44  1060.70  1010.96"
      ]
     },
     "execution_count": 3,
     "metadata": {},
     "output_type": "execute_result"
    }
   ],
   "source": [
    "import pandas as pd\n",
    "\n",
    "url ='https://raw.githubusercontent.com/jimsjoo/gilbut_portfolio/master/portfolioAB.csv'\n",
    "\n",
    "df = pd.read_csv(url)\n",
    "df.head()"
   ]
  },
  {
   "cell_type": "code",
   "execution_count": 4,
   "metadata": {},
   "outputs": [
    {
     "data": {
      "text/html": [
       "<div>\n",
       "<style scoped>\n",
       "    .dataframe tbody tr th:only-of-type {\n",
       "        vertical-align: middle;\n",
       "    }\n",
       "\n",
       "    .dataframe tbody tr th {\n",
       "        vertical-align: top;\n",
       "    }\n",
       "\n",
       "    .dataframe thead th {\n",
       "        text-align: right;\n",
       "    }\n",
       "</style>\n",
       "<table border=\"1\" class=\"dataframe\">\n",
       "  <thead>\n",
       "    <tr style=\"text-align: right;\">\n",
       "      <th></th>\n",
       "      <th>KOSPI</th>\n",
       "      <th>PortA</th>\n",
       "      <th>PortB</th>\n",
       "    </tr>\n",
       "  </thead>\n",
       "  <tbody>\n",
       "    <tr>\n",
       "      <th>0</th>\n",
       "      <td>NaN</td>\n",
       "      <td>NaN</td>\n",
       "      <td>NaN</td>\n",
       "    </tr>\n",
       "    <tr>\n",
       "      <th>1</th>\n",
       "      <td>0.002970</td>\n",
       "      <td>0.000454</td>\n",
       "      <td>0.000555</td>\n",
       "    </tr>\n",
       "    <tr>\n",
       "      <th>2</th>\n",
       "      <td>0.004833</td>\n",
       "      <td>0.000944</td>\n",
       "      <td>0.001189</td>\n",
       "    </tr>\n",
       "    <tr>\n",
       "      <th>3</th>\n",
       "      <td>-0.005561</td>\n",
       "      <td>-0.000934</td>\n",
       "      <td>-0.001178</td>\n",
       "    </tr>\n",
       "    <tr>\n",
       "      <th>4</th>\n",
       "      <td>0.000000</td>\n",
       "      <td>0.001813</td>\n",
       "      <td>0.002082</td>\n",
       "    </tr>\n",
       "    <tr>\n",
       "      <th>...</th>\n",
       "      <td>...</td>\n",
       "      <td>...</td>\n",
       "      <td>...</td>\n",
       "    </tr>\n",
       "    <tr>\n",
       "      <th>1983</th>\n",
       "      <td>0.000000</td>\n",
       "      <td>0.001553</td>\n",
       "      <td>0.001856</td>\n",
       "    </tr>\n",
       "    <tr>\n",
       "      <th>1984</th>\n",
       "      <td>0.000000</td>\n",
       "      <td>0.000257</td>\n",
       "      <td>0.000304</td>\n",
       "    </tr>\n",
       "    <tr>\n",
       "      <th>1985</th>\n",
       "      <td>0.000000</td>\n",
       "      <td>-0.000337</td>\n",
       "      <td>-0.000396</td>\n",
       "    </tr>\n",
       "    <tr>\n",
       "      <th>1986</th>\n",
       "      <td>0.000000</td>\n",
       "      <td>0.000124</td>\n",
       "      <td>0.000147</td>\n",
       "    </tr>\n",
       "    <tr>\n",
       "      <th>1987</th>\n",
       "      <td>0.006354</td>\n",
       "      <td>0.000718</td>\n",
       "      <td>0.000875</td>\n",
       "    </tr>\n",
       "  </tbody>\n",
       "</table>\n",
       "<p>1988 rows × 3 columns</p>\n",
       "</div>"
      ],
      "text/plain": [
       "         KOSPI     PortA     PortB\n",
       "0          NaN       NaN       NaN\n",
       "1     0.002970  0.000454  0.000555\n",
       "2     0.004833  0.000944  0.001189\n",
       "3    -0.005561 -0.000934 -0.001178\n",
       "4     0.000000  0.001813  0.002082\n",
       "...        ...       ...       ...\n",
       "1983  0.000000  0.001553  0.001856\n",
       "1984  0.000000  0.000257  0.000304\n",
       "1985  0.000000 -0.000337 -0.000396\n",
       "1986  0.000000  0.000124  0.000147\n",
       "1987  0.006354  0.000718  0.000875\n",
       "\n",
       "[1988 rows x 3 columns]"
      ]
     },
     "execution_count": 4,
     "metadata": {},
     "output_type": "execute_result"
    }
   ],
   "source": [
    "# 'KOSPI', 'PortA', 'PortB'의 수익률을 계산한다\n",
    "returns = df[['KOSPI', 'PortA', 'PortB']].pct_change()\n",
    "returns"
   ]
  },
  {
   "cell_type": "code",
   "execution_count": 5,
   "metadata": {},
   "outputs": [
    {
     "name": "stdout",
     "output_type": "stream",
     "text": [
      "KOSPI200 일간변동성: 9.83%\n",
      "Portfolio A 일간변동성: 4.15%\n",
      "Portfolio B 일간변동성: 4.76%\n",
      "Portfolio A의 beta: 0.0154\n",
      "Portfolio B의 beta: 0.0186\n"
     ]
    }
   ],
   "source": [
    "# 앞서 읽어 들인 포트폴리오 수익률의 변동성, 공분산, 베타를 계산한다\n",
    "import math\n",
    "\n",
    "vol_m = returns['KOSPI'].std() * math.sqrt(250)\n",
    "vol_A = returns['PortA'].std() * math.sqrt(250)\n",
    "vol_B = returns['PortB'].std() * math.sqrt(250)\n",
    "print('KOSPI200 일간변동성: {:0.2%}'.format(vol_m))\n",
    "print('Portfolio A 일간변동성: {:0.2%}'.format(vol_A))\n",
    "print('Portfolio B 일간변동성: {:0.2%}'.format(vol_B))\n",
    "\n",
    "covs = returns.cov()\n",
    "cov_mA = covs.loc['KOSPI', 'PortA']\n",
    "cov_mB = covs.loc['KOSPI', 'PortB']\n",
    "var_m = returns['KOSPI'].var()\n",
    "beta_A = cov_mA / var_m\n",
    "beta_B = cov_mB / var_m\n",
    "print('Portfolio A의 beta: {:.4f}'.format(beta_A))\n",
    "print('Portfolio B의 beta: {:.4f}'.format(beta_B))"
   ]
  },
  {
   "cell_type": "code",
   "execution_count": null,
   "metadata": {},
   "outputs": [],
   "source": []
  }
 ],
 "metadata": {
  "interpreter": {
   "hash": "38975e1155517b59f8c43fae6b2cd5fc2c10decd5084c524c2b39939c331f457"
  },
  "kernelspec": {
   "display_name": "Python 3.9.4 64-bit ('aa': conda)",
   "language": "python",
   "name": "python3"
  },
  "language_info": {
   "codemirror_mode": {
    "name": "ipython",
    "version": 3
   },
   "file_extension": ".py",
   "mimetype": "text/x-python",
   "name": "python",
   "nbconvert_exporter": "python",
   "pygments_lexer": "ipython3",
   "version": "3.9.4"
  },
  "orig_nbformat": 4
 },
 "nbformat": 4,
 "nbformat_minor": 2
}
