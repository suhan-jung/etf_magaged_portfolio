{
 "cells": [
  {
   "cell_type": "markdown",
   "metadata": {},
   "source": [
    "# Portfolio Optimization"
   ]
  },
  {
   "cell_type": "markdown",
   "metadata": {},
   "source": [
    "## 준비 단계"
   ]
  },
  {
   "cell_type": "markdown",
   "metadata": {},
   "source": [
    "### 필요 라이브러리 로드 및 환경변수 설정"
   ]
  },
  {
   "cell_type": "code",
   "execution_count": 2,
   "metadata": {},
   "outputs": [],
   "source": [
    "%matplotlib inline\n",
    "\n",
    "import pandas as pd\n",
    "import numpy as np\n",
    "import matplotlib.pyplot as plt\n",
    "# import math\n",
    "\n",
    "plt.style.use('seaborn-whitegrid')\n",
    "plt.rc('font', family=\"Malgun Gothic\")\n",
    "plt.rc('axes', unicode_minus=False)"
   ]
  },
  {
   "cell_type": "markdown",
   "metadata": {},
   "source": [
    "### 원시 가격 데이터 로드 및 전처리"
   ]
  },
  {
   "cell_type": "code",
   "execution_count": 3,
   "metadata": {},
   "outputs": [],
   "source": [
    "# ./data 폴더의 BloombergMain.py(융기원 코드)를 통해 생성한 csv파일을 불러온다.\n",
    "data = pd.read_csv('../data/data.csv', index_col=0, parse_dates=True)"
   ]
  },
  {
   "cell_type": "code",
   "execution_count": 4,
   "metadata": {
    "tags": []
   },
   "outputs": [
    {
     "data": {
      "text/html": [
       "<div>\n",
       "<style scoped>\n",
       "    .dataframe tbody tr th:only-of-type {\n",
       "        vertical-align: middle;\n",
       "    }\n",
       "\n",
       "    .dataframe tbody tr th {\n",
       "        vertical-align: top;\n",
       "    }\n",
       "\n",
       "    .dataframe thead th {\n",
       "        text-align: right;\n",
       "    }\n",
       "</style>\n",
       "<table border=\"1\" class=\"dataframe\">\n",
       "  <thead>\n",
       "    <tr style=\"text-align: right;\">\n",
       "      <th></th>\n",
       "      <th>DBE US Equity</th>\n",
       "      <th>IAU US Equity</th>\n",
       "      <th>SLV US Equity</th>\n",
       "      <th>AIA US Equity</th>\n",
       "      <th>VPL US Equity</th>\n",
       "      <th>VGK US Equity</th>\n",
       "      <th>VWO US Equity</th>\n",
       "      <th>VXUS US Equity</th>\n",
       "      <th>RWO US Equity</th>\n",
       "      <th>VOO US Equity</th>\n",
       "      <th>VO US Equity</th>\n",
       "      <th>VB US Equity</th>\n",
       "      <th>SCHH US Equity</th>\n",
       "      <th>EMLC US Equity</th>\n",
       "      <th>AGG US Equity</th>\n",
       "    </tr>\n",
       "    <tr>\n",
       "      <th>Date</th>\n",
       "      <th></th>\n",
       "      <th></th>\n",
       "      <th></th>\n",
       "      <th></th>\n",
       "      <th></th>\n",
       "      <th></th>\n",
       "      <th></th>\n",
       "      <th></th>\n",
       "      <th></th>\n",
       "      <th></th>\n",
       "      <th></th>\n",
       "      <th></th>\n",
       "      <th></th>\n",
       "      <th></th>\n",
       "      <th></th>\n",
       "    </tr>\n",
       "  </thead>\n",
       "  <tbody>\n",
       "    <tr>\n",
       "      <th>2003-09-26</th>\n",
       "      <td>NaN</td>\n",
       "      <td>NaN</td>\n",
       "      <td>NaN</td>\n",
       "      <td>NaN</td>\n",
       "      <td>NaN</td>\n",
       "      <td>NaN</td>\n",
       "      <td>NaN</td>\n",
       "      <td>NaN</td>\n",
       "      <td>NaN</td>\n",
       "      <td>NaN</td>\n",
       "      <td>NaN</td>\n",
       "      <td>NaN</td>\n",
       "      <td>NaN</td>\n",
       "      <td>NaN</td>\n",
       "      <td>57.4037</td>\n",
       "    </tr>\n",
       "    <tr>\n",
       "      <th>2003-09-29</th>\n",
       "      <td>NaN</td>\n",
       "      <td>NaN</td>\n",
       "      <td>NaN</td>\n",
       "      <td>NaN</td>\n",
       "      <td>NaN</td>\n",
       "      <td>NaN</td>\n",
       "      <td>NaN</td>\n",
       "      <td>NaN</td>\n",
       "      <td>NaN</td>\n",
       "      <td>NaN</td>\n",
       "      <td>NaN</td>\n",
       "      <td>NaN</td>\n",
       "      <td>NaN</td>\n",
       "      <td>NaN</td>\n",
       "      <td>57.2468</td>\n",
       "    </tr>\n",
       "    <tr>\n",
       "      <th>2003-09-30</th>\n",
       "      <td>NaN</td>\n",
       "      <td>NaN</td>\n",
       "      <td>NaN</td>\n",
       "      <td>NaN</td>\n",
       "      <td>NaN</td>\n",
       "      <td>NaN</td>\n",
       "      <td>NaN</td>\n",
       "      <td>NaN</td>\n",
       "      <td>NaN</td>\n",
       "      <td>NaN</td>\n",
       "      <td>NaN</td>\n",
       "      <td>NaN</td>\n",
       "      <td>NaN</td>\n",
       "      <td>NaN</td>\n",
       "      <td>57.5438</td>\n",
       "    </tr>\n",
       "    <tr>\n",
       "      <th>2003-10-01</th>\n",
       "      <td>NaN</td>\n",
       "      <td>NaN</td>\n",
       "      <td>NaN</td>\n",
       "      <td>NaN</td>\n",
       "      <td>NaN</td>\n",
       "      <td>NaN</td>\n",
       "      <td>NaN</td>\n",
       "      <td>NaN</td>\n",
       "      <td>NaN</td>\n",
       "      <td>NaN</td>\n",
       "      <td>NaN</td>\n",
       "      <td>NaN</td>\n",
       "      <td>NaN</td>\n",
       "      <td>NaN</td>\n",
       "      <td>57.5158</td>\n",
       "    </tr>\n",
       "    <tr>\n",
       "      <th>2003-10-02</th>\n",
       "      <td>NaN</td>\n",
       "      <td>NaN</td>\n",
       "      <td>NaN</td>\n",
       "      <td>NaN</td>\n",
       "      <td>NaN</td>\n",
       "      <td>NaN</td>\n",
       "      <td>NaN</td>\n",
       "      <td>NaN</td>\n",
       "      <td>NaN</td>\n",
       "      <td>NaN</td>\n",
       "      <td>NaN</td>\n",
       "      <td>NaN</td>\n",
       "      <td>NaN</td>\n",
       "      <td>NaN</td>\n",
       "      <td>57.4261</td>\n",
       "    </tr>\n",
       "  </tbody>\n",
       "</table>\n",
       "</div>"
      ],
      "text/plain": [
       "            DBE US Equity  IAU US Equity  SLV US Equity  AIA US Equity  \\\n",
       "Date                                                                     \n",
       "2003-09-26            NaN            NaN            NaN            NaN   \n",
       "2003-09-29            NaN            NaN            NaN            NaN   \n",
       "2003-09-30            NaN            NaN            NaN            NaN   \n",
       "2003-10-01            NaN            NaN            NaN            NaN   \n",
       "2003-10-02            NaN            NaN            NaN            NaN   \n",
       "\n",
       "            VPL US Equity  VGK US Equity  VWO US Equity  VXUS US Equity  \\\n",
       "Date                                                                      \n",
       "2003-09-26            NaN            NaN            NaN             NaN   \n",
       "2003-09-29            NaN            NaN            NaN             NaN   \n",
       "2003-09-30            NaN            NaN            NaN             NaN   \n",
       "2003-10-01            NaN            NaN            NaN             NaN   \n",
       "2003-10-02            NaN            NaN            NaN             NaN   \n",
       "\n",
       "            RWO US Equity  VOO US Equity  VO US Equity  VB US Equity  \\\n",
       "Date                                                                   \n",
       "2003-09-26            NaN            NaN           NaN           NaN   \n",
       "2003-09-29            NaN            NaN           NaN           NaN   \n",
       "2003-09-30            NaN            NaN           NaN           NaN   \n",
       "2003-10-01            NaN            NaN           NaN           NaN   \n",
       "2003-10-02            NaN            NaN           NaN           NaN   \n",
       "\n",
       "            SCHH US Equity  EMLC US Equity  AGG US Equity  \n",
       "Date                                                       \n",
       "2003-09-26             NaN             NaN        57.4037  \n",
       "2003-09-29             NaN             NaN        57.2468  \n",
       "2003-09-30             NaN             NaN        57.5438  \n",
       "2003-10-01             NaN             NaN        57.5158  \n",
       "2003-10-02             NaN             NaN        57.4261  "
      ]
     },
     "execution_count": 4,
     "metadata": {},
     "output_type": "execute_result"
    }
   ],
   "source": [
    "data.head()"
   ]
  },
  {
   "cell_type": "code",
   "execution_count": 5,
   "metadata": {},
   "outputs": [],
   "source": [
    "def preprocessing(data):\n",
    "    # 일자별 종가인 dataframe을 받아서 nan값 제거, linear interpolation을 한후 로그일간수익율로 변환하여 반환한다.\n",
    "    df = data.dropna(thresh=4)\n",
    "    df = df.interpolate(method='linear', limit_direction='forward')  # 연휴에 따른 급격한 변화를 smoothing해주기 위해 interpolation\n",
    "    df = df.dropna()\n",
    "    dr = np.log(df).diff(1).dropna()\n",
    "    return dr"
   ]
  },
  {
   "cell_type": "code",
   "execution_count": 6,
   "metadata": {},
   "outputs": [],
   "source": [
    "df = preprocessing(data)\n",
    "df.to_csv('../data/data_preprocessed.csv')"
   ]
  },
  {
   "cell_type": "markdown",
   "metadata": {},
   "source": [
    "### 로그수익율 파일을 로드해서 시작하는 경우"
   ]
  },
  {
   "cell_type": "code",
   "execution_count": 7,
   "metadata": {},
   "outputs": [],
   "source": [
    "%matplotlib inline\n",
    "\n",
    "import pandas as pd\n",
    "import numpy as np\n",
    "import matplotlib.pyplot as plt\n",
    "from sklearn.utils import shuffle\n",
    "import tensorflow as tf\n",
    "import tensorflow_probability as tfp\n",
    "\n",
    "# tensorflow의 래핑 라이브러리인 keras에서 본 튜토리얼에 사용할 기능들\n",
    "from keras.models import Sequential, Model, load_model\n",
    "from keras.layers import Activation, Dense\n",
    "from keras.layers import LSTM\n",
    "from keras.layers import Dropout\n",
    "from keras.models import Input\n",
    "# from keras.optimizers import Adam\n",
    "from tensorflow.keras.optimizers import Adam\n",
    "\n",
    "plt.style.use('seaborn-whitegrid')\n",
    "plt.rc('font', family=\"Malgun Gothic\")\n",
    "plt.rc('axes', unicode_minus=False)"
   ]
  },
  {
   "cell_type": "code",
   "execution_count": 29,
   "metadata": {},
   "outputs": [
    {
     "name": "stdout",
     "output_type": "stream",
     "text": [
      "DatetimeIndex(['2011-01-31', '2011-02-01', '2011-02-02', '2011-02-03',\n",
      "               '2011-02-04', '2011-02-07', '2011-02-08', '2011-02-09',\n",
      "               '2011-02-10', '2011-02-11',\n",
      "               ...\n",
      "               '2022-03-14', '2022-03-15', '2022-03-16', '2022-03-17',\n",
      "               '2022-03-18', '2022-03-21', '2022-03-22', '2022-03-23',\n",
      "               '2022-03-24', '2022-03-25'],\n",
      "              dtype='datetime64[ns]', name='Date', length=2808, freq=None)\n"
     ]
    }
   ],
   "source": [
    "# 로그수익율로 전처리 완료된 파일을 불러온다.\n",
    "dr = pd.read_csv('../data/data_preprocessed.csv', index_col=0, parse_dates=True)\n",
    "print(dr.index)"
   ]
  },
  {
   "cell_type": "markdown",
   "metadata": {},
   "source": [
    "### Train / Test data 분리 - 8 : 2"
   ]
  },
  {
   "cell_type": "code",
   "execution_count": 31,
   "metadata": {},
   "outputs": [
    {
     "name": "stdout",
     "output_type": "stream",
     "text": [
      "2246\n",
      "train data index\n",
      "DatetimeIndex(['2011-01-31', '2011-02-01', '2011-02-02', '2011-02-03',\n",
      "               '2011-02-04', '2011-02-07', '2011-02-08', '2011-02-09',\n",
      "               '2011-02-10', '2011-02-11',\n",
      "               ...\n",
      "               '2019-12-18', '2019-12-19', '2019-12-20', '2019-12-23',\n",
      "               '2019-12-24', '2019-12-26', '2019-12-27', '2019-12-30',\n",
      "               '2019-12-31', '2020-01-02'],\n",
      "              dtype='datetime64[ns]', name='Date', length=2246, freq=None)\n",
      "test data index\n",
      "DatetimeIndex(['2020-01-03', '2020-01-06', '2020-01-07', '2020-01-08',\n",
      "               '2020-01-09', '2020-01-10', '2020-01-13', '2020-01-14',\n",
      "               '2020-01-15', '2020-01-16',\n",
      "               ...\n",
      "               '2022-03-14', '2022-03-15', '2022-03-16', '2022-03-17',\n",
      "               '2022-03-18', '2022-03-21', '2022-03-22', '2022-03-23',\n",
      "               '2022-03-24', '2022-03-25'],\n",
      "              dtype='datetime64[ns]', name='Date', length=562, freq=None)\n"
     ]
    }
   ],
   "source": [
    "# train data : test data = 80 : 20\n",
    "train_index = int(dr.shape[0]*0.8)\n",
    "print(train_index)\n",
    "# 80:20 으로 train / test 분할 (numpy array로 변환)\n",
    "train_data = dr[:train_index].values\n",
    "print(\"train data index\")\n",
    "print(dr[:train_index].index)\n",
    "test_data = dr[train_index:].values\n",
    "print(\"test data index\")\n",
    "print(dr[train_index:].index)\n"
   ]
  },
  {
   "cell_type": "markdown",
   "metadata": {},
   "source": [
    "### Data 준비 - sliding window"
   ]
  },
  {
   "cell_type": "code",
   "execution_count": 10,
   "metadata": {},
   "outputs": [],
   "source": [
    "def make_data_window(data, window_size_past, window_size_future):\n",
    "    # sequential data와 과거데이터 수, 미래 데이터 수 를 받아서 과거데이터 ndarray, 미래데이터 ndarray를 반환한다.\n",
    "    inputs_past = []\n",
    "    inputs_future = []\n",
    "    for i in range(len(data)-window_size_past-window_size_future):\n",
    "        inputs_past.append(data[i:i+window_size_past].copy())\n",
    "        inputs_future.append(data[i+window_size_past:i+window_size_past+window_size_future].copy())\n",
    "        \n",
    "    np_inputs_past = np.array(inputs_past)\n",
    "    np_inputs_future = np.array(inputs_future)\n",
    "    return np_inputs_past, np_inputs_future"
   ]
  },
  {
   "cell_type": "code",
   "execution_count": 11,
   "metadata": {},
   "outputs": [],
   "source": [
    "# 자산배분비율 산출 기준 : 과거 60일 데이터로 산출, 미래 20일의 최적수익율로 최적화\n",
    "window_size_past = 60\n",
    "window_size_future = 20\n",
    "\n",
    "xc_train, xf_train = make_data_window(train_data, window_size_past, window_size_future)\n",
    "xc_test, xf_test = make_data_window(test_data, window_size_past, window_size_future)\n"
   ]
  },
  {
   "cell_type": "markdown",
   "metadata": {},
   "source": [
    "## MPN(Markowitz Portfolio Network)"
   ]
  },
  {
   "cell_type": "markdown",
   "metadata": {},
   "source": [
    "### 주요 상수 설정"
   ]
  },
  {
   "cell_type": "code",
   "execution_count": 12,
   "metadata": {},
   "outputs": [],
   "source": [
    "# 월간 수익율 정도의 스케일로 변환한다.(아마퀀트님 코드)\n",
    "xc_train = xc_train.astype('float32') * 20.0\n",
    "xf_train = xf_train.astype('float32') * 20.0\n",
    "xc_test = xc_test.astype('float32') * 20.0\n",
    "xf_test = xf_test.astype('float32') * 20.0\n",
    "\n",
    "N_TIME = xc_train.shape[1]\n",
    "N_FUTURE = xf_train.shape[1]\n",
    "N_STOCKS = xf_train.shape[2]\n",
    "\n",
    "# 입력 순서에 따른 상관성을 제거하기 위해 sklearn.utils의 함수를 이용해서 shuffle을 수행한다.\n",
    "xc_train, xf_train = shuffle(xc_train, xf_train)\n",
    "\n",
    "# over confidence를 제어할 조절 변수 정의\n",
    "# GAMMA_CONST = 0.1\n",
    "GAMMA_CONST = 0.001\n",
    "# REG_CONST = 0.1\n",
    "REG_CONST = 0.001\n",
    "SAVE_MODEL = '../model/mpn.h5'"
   ]
  },
  {
   "cell_type": "markdown",
   "metadata": {},
   "source": [
    "### 목적함수 정의"
   ]
  },
  {
   "cell_type": "code",
   "execution_count": 13,
   "metadata": {},
   "outputs": [],
   "source": [
    "def markowitz_objective(y_true, y_pred):\n",
    "    W = y_pred\n",
    "    xf_rtn = y_true\n",
    "    W = tf.expand_dims(W, axis=1)\n",
    "    R = tf.expand_dims(tf.reduce_mean(xf_rtn, axis=1), axis=2)\n",
    "    C = tfp.stats.covariance(xf_rtn, sample_axis=1)\n",
    "    \n",
    "    rtn = tf.matmul(W, R)\n",
    "    vol = tf.matmul(W, tf.matmul(C, tf.transpose(W, perm=[0,2,1]))) * GAMMA_CONST\n",
    "    reg = tf.reduce_sum(tf.square(W), axis=-1) * REG_CONST\n",
    "    objective = rtn - vol - reg\n",
    "    \n",
    "    return -tf.reduce_mean(objective, axis=0)"
   ]
  },
  {
   "cell_type": "markdown",
   "metadata": {},
   "source": [
    "LSTM 모델 생성"
   ]
  },
  {
   "cell_type": "code",
   "execution_count": 14,
   "metadata": {},
   "outputs": [],
   "source": [
    "# LSTM으로 Markowitz 모델을 생성한다.\n",
    "xc_input = Input(batch_shape=(None, N_TIME, N_STOCKS))\n",
    "h_lstm = LSTM(64, dropout=0.5)(xc_input)\n",
    "y_output = Dense(N_STOCKS, activation='tanh')(h_lstm)\n",
    "\n",
    "# 특정 종목을 과도하게 매수하는 것을 방지하기 위해 위에서 tanh를 사용했다.(over confidence 방지용)\n",
    "# REG_CONST를 적용했기때문에 이미 고려된 사항이지만, 안전을 위해 추가했다.\n",
    "\n",
    "# 마코비츠의 최적 weights\n",
    "y_output = Activation('softmax')(y_output)\n",
    "\n",
    "model = Model(inputs=xc_input, outputs=y_output)\n",
    "model.compile(loss=markowitz_objective, optimizer=Adam(learning_rate=1e-5))"
   ]
  },
  {
   "cell_type": "markdown",
   "metadata": {},
   "source": [
    "### 모델 학습"
   ]
  },
  {
   "cell_type": "code",
   "execution_count": 15,
   "metadata": {
    "tags": []
   },
   "outputs": [
    {
     "name": "stdout",
     "output_type": "stream",
     "text": [
      "Epoch 1/150\n",
      "68/68 [==============================] - 3s 18ms/step - loss: -0.0027 - val_loss: -0.0156\n",
      "Epoch 2/150\n",
      "68/68 [==============================] - 1s 13ms/step - loss: -0.0027 - val_loss: -0.0156\n",
      "Epoch 3/150\n",
      "68/68 [==============================] - 1s 12ms/step - loss: -0.0027 - val_loss: -0.0156\n",
      "Epoch 4/150\n",
      "68/68 [==============================] - 1s 12ms/step - loss: -0.0027 - val_loss: -0.0156\n",
      "Epoch 5/150\n",
      "68/68 [==============================] - 1s 12ms/step - loss: -0.0027 - val_loss: -0.0156\n",
      "Epoch 6/150\n",
      "68/68 [==============================] - 1s 12ms/step - loss: -0.0027 - val_loss: -0.0156\n",
      "Epoch 7/150\n",
      "68/68 [==============================] - 1s 12ms/step - loss: -0.0027 - val_loss: -0.0156\n",
      "Epoch 8/150\n",
      "68/68 [==============================] - 1s 12ms/step - loss: -0.0027 - val_loss: -0.0156\n",
      "Epoch 9/150\n",
      "68/68 [==============================] - 1s 12ms/step - loss: -0.0027 - val_loss: -0.0156\n",
      "Epoch 10/150\n",
      "68/68 [==============================] - 1s 12ms/step - loss: -0.0028 - val_loss: -0.0156\n",
      "Epoch 11/150\n",
      "68/68 [==============================] - 1s 12ms/step - loss: -0.0028 - val_loss: -0.0156\n",
      "Epoch 12/150\n",
      "68/68 [==============================] - 1s 12ms/step - loss: -0.0028 - val_loss: -0.0156\n",
      "Epoch 13/150\n",
      "68/68 [==============================] - 1s 12ms/step - loss: -0.0028 - val_loss: -0.0156\n",
      "Epoch 14/150\n",
      "68/68 [==============================] - 1s 13ms/step - loss: -0.0028 - val_loss: -0.0156\n",
      "Epoch 15/150\n",
      "68/68 [==============================] - 1s 12ms/step - loss: -0.0028 - val_loss: -0.0156\n",
      "Epoch 16/150\n",
      "68/68 [==============================] - 1s 12ms/step - loss: -0.0028 - val_loss: -0.0156\n",
      "Epoch 17/150\n",
      "68/68 [==============================] - 1s 12ms/step - loss: -0.0028 - val_loss: -0.0156\n",
      "Epoch 18/150\n",
      "68/68 [==============================] - 1s 12ms/step - loss: -0.0029 - val_loss: -0.0156\n",
      "Epoch 19/150\n",
      "68/68 [==============================] - 1s 12ms/step - loss: -0.0029 - val_loss: -0.0156\n",
      "Epoch 20/150\n",
      "68/68 [==============================] - 1s 12ms/step - loss: -0.0029 - val_loss: -0.0155\n",
      "Epoch 21/150\n",
      "68/68 [==============================] - 1s 12ms/step - loss: -0.0029 - val_loss: -0.0155\n",
      "Epoch 22/150\n",
      "68/68 [==============================] - 1s 12ms/step - loss: -0.0030 - val_loss: -0.0155\n",
      "Epoch 23/150\n",
      "68/68 [==============================] - 1s 12ms/step - loss: -0.0030 - val_loss: -0.0155\n",
      "Epoch 24/150\n",
      "68/68 [==============================] - 1s 12ms/step - loss: -0.0031 - val_loss: -0.0155\n",
      "Epoch 25/150\n",
      "68/68 [==============================] - 1s 12ms/step - loss: -0.0031 - val_loss: -0.0155\n",
      "Epoch 26/150\n",
      "68/68 [==============================] - 1s 12ms/step - loss: -0.0032 - val_loss: -0.0154\n",
      "Epoch 27/150\n",
      "68/68 [==============================] - 1s 12ms/step - loss: -0.0034 - val_loss: -0.0153\n",
      "Epoch 28/150\n",
      "68/68 [==============================] - 1s 12ms/step - loss: -0.0037 - val_loss: -0.0152\n",
      "Epoch 29/150\n",
      "68/68 [==============================] - 1s 12ms/step - loss: -0.0041 - val_loss: -0.0153\n",
      "Epoch 30/150\n",
      "68/68 [==============================] - 1s 12ms/step - loss: -0.0043 - val_loss: -0.0155\n",
      "Epoch 31/150\n",
      "68/68 [==============================] - 1s 12ms/step - loss: -0.0045 - val_loss: -0.0156\n",
      "Epoch 32/150\n",
      "68/68 [==============================] - 1s 12ms/step - loss: -0.0046 - val_loss: -0.0157\n",
      "Epoch 33/150\n",
      "68/68 [==============================] - 1s 12ms/step - loss: -0.0046 - val_loss: -0.0158\n",
      "Epoch 34/150\n",
      "68/68 [==============================] - 1s 12ms/step - loss: -0.0047 - val_loss: -0.0159\n",
      "Epoch 35/150\n",
      "68/68 [==============================] - 1s 12ms/step - loss: -0.0047 - val_loss: -0.0160\n",
      "Epoch 36/150\n",
      "68/68 [==============================] - 1s 12ms/step - loss: -0.0048 - val_loss: -0.0160\n",
      "Epoch 37/150\n",
      "68/68 [==============================] - 1s 12ms/step - loss: -0.0048 - val_loss: -0.0161\n",
      "Epoch 38/150\n",
      "68/68 [==============================] - 1s 13ms/step - loss: -0.0049 - val_loss: -0.0162\n",
      "Epoch 39/150\n",
      "68/68 [==============================] - 1s 12ms/step - loss: -0.0049 - val_loss: -0.0163\n",
      "Epoch 40/150\n",
      "68/68 [==============================] - 1s 12ms/step - loss: -0.0050 - val_loss: -0.0164\n",
      "Epoch 41/150\n",
      "68/68 [==============================] - 1s 12ms/step - loss: -0.0050 - val_loss: -0.0164\n",
      "Epoch 42/150\n",
      "68/68 [==============================] - 1s 12ms/step - loss: -0.0050 - val_loss: -0.0165\n",
      "Epoch 43/150\n",
      "68/68 [==============================] - 1s 12ms/step - loss: -0.0051 - val_loss: -0.0166\n",
      "Epoch 44/150\n",
      "68/68 [==============================] - 1s 12ms/step - loss: -0.0051 - val_loss: -0.0167\n",
      "Epoch 45/150\n",
      "68/68 [==============================] - 1s 12ms/step - loss: -0.0051 - val_loss: -0.0167\n",
      "Epoch 46/150\n",
      "68/68 [==============================] - 1s 12ms/step - loss: -0.0052 - val_loss: -0.0168\n",
      "Epoch 47/150\n",
      "68/68 [==============================] - 1s 12ms/step - loss: -0.0052 - val_loss: -0.0169\n",
      "Epoch 48/150\n",
      "68/68 [==============================] - 1s 12ms/step - loss: -0.0052 - val_loss: -0.0169\n",
      "Epoch 49/150\n",
      "68/68 [==============================] - 1s 12ms/step - loss: -0.0053 - val_loss: -0.0170\n",
      "Epoch 50/150\n",
      "68/68 [==============================] - 1s 12ms/step - loss: -0.0053 - val_loss: -0.0171\n",
      "Epoch 51/150\n",
      "68/68 [==============================] - 1s 12ms/step - loss: -0.0053 - val_loss: -0.0171\n",
      "Epoch 52/150\n",
      "68/68 [==============================] - 1s 12ms/step - loss: -0.0053 - val_loss: -0.0172\n",
      "Epoch 53/150\n",
      "68/68 [==============================] - 1s 12ms/step - loss: -0.0053 - val_loss: -0.0172\n",
      "Epoch 54/150\n",
      "68/68 [==============================] - 1s 12ms/step - loss: -0.0054 - val_loss: -0.0173\n",
      "Epoch 55/150\n",
      "68/68 [==============================] - 1s 12ms/step - loss: -0.0054 - val_loss: -0.0173\n",
      "Epoch 56/150\n",
      "68/68 [==============================] - 1s 12ms/step - loss: -0.0054 - val_loss: -0.0174\n",
      "Epoch 57/150\n",
      "68/68 [==============================] - 1s 13ms/step - loss: -0.0054 - val_loss: -0.0174\n",
      "Epoch 58/150\n",
      "68/68 [==============================] - 1s 12ms/step - loss: -0.0054 - val_loss: -0.0174\n",
      "Epoch 59/150\n",
      "68/68 [==============================] - 1s 12ms/step - loss: -0.0054 - val_loss: -0.0175\n",
      "Epoch 60/150\n",
      "68/68 [==============================] - 1s 12ms/step - loss: -0.0055 - val_loss: -0.0175\n",
      "Epoch 61/150\n",
      "68/68 [==============================] - 1s 12ms/step - loss: -0.0055 - val_loss: -0.0176\n",
      "Epoch 62/150\n",
      "68/68 [==============================] - 1s 12ms/step - loss: -0.0055 - val_loss: -0.0176\n",
      "Epoch 63/150\n",
      "68/68 [==============================] - 1s 12ms/step - loss: -0.0055 - val_loss: -0.0176\n",
      "Epoch 64/150\n",
      "68/68 [==============================] - 1s 12ms/step - loss: -0.0055 - val_loss: -0.0176\n",
      "Epoch 65/150\n",
      "68/68 [==============================] - 1s 12ms/step - loss: -0.0055 - val_loss: -0.0177\n",
      "Epoch 66/150\n",
      "68/68 [==============================] - 1s 12ms/step - loss: -0.0055 - val_loss: -0.0177\n",
      "Epoch 67/150\n",
      "68/68 [==============================] - 1s 12ms/step - loss: -0.0055 - val_loss: -0.0177\n",
      "Epoch 68/150\n",
      "68/68 [==============================] - 1s 12ms/step - loss: -0.0056 - val_loss: -0.0178\n",
      "Epoch 69/150\n",
      "68/68 [==============================] - 1s 12ms/step - loss: -0.0056 - val_loss: -0.0178\n",
      "Epoch 70/150\n",
      "68/68 [==============================] - 1s 12ms/step - loss: -0.0056 - val_loss: -0.0178\n",
      "Epoch 71/150\n",
      "68/68 [==============================] - 1s 12ms/step - loss: -0.0056 - val_loss: -0.0178\n",
      "Epoch 72/150\n",
      "68/68 [==============================] - 1s 12ms/step - loss: -0.0056 - val_loss: -0.0178\n",
      "Epoch 73/150\n",
      "68/68 [==============================] - 1s 13ms/step - loss: -0.0056 - val_loss: -0.0179\n",
      "Epoch 74/150\n",
      "68/68 [==============================] - 1s 12ms/step - loss: -0.0056 - val_loss: -0.0179\n",
      "Epoch 75/150\n",
      "68/68 [==============================] - 1s 13ms/step - loss: -0.0056 - val_loss: -0.0179\n",
      "Epoch 76/150\n",
      "68/68 [==============================] - 1s 13ms/step - loss: -0.0056 - val_loss: -0.0179\n",
      "Epoch 77/150\n",
      "68/68 [==============================] - 1s 12ms/step - loss: -0.0056 - val_loss: -0.0179\n",
      "Epoch 78/150\n",
      "68/68 [==============================] - 1s 12ms/step - loss: -0.0056 - val_loss: -0.0180\n",
      "Epoch 79/150\n",
      "68/68 [==============================] - 1s 12ms/step - loss: -0.0056 - val_loss: -0.0180\n",
      "Epoch 80/150\n",
      "68/68 [==============================] - 1s 12ms/step - loss: -0.0056 - val_loss: -0.0180\n",
      "Epoch 81/150\n",
      "68/68 [==============================] - 1s 12ms/step - loss: -0.0057 - val_loss: -0.0180\n",
      "Epoch 82/150\n",
      "68/68 [==============================] - 1s 12ms/step - loss: -0.0057 - val_loss: -0.0180\n",
      "Epoch 83/150\n",
      "68/68 [==============================] - 1s 12ms/step - loss: -0.0057 - val_loss: -0.0180\n",
      "Epoch 84/150\n",
      "68/68 [==============================] - 1s 12ms/step - loss: -0.0057 - val_loss: -0.0181\n",
      "Epoch 85/150\n",
      "68/68 [==============================] - 1s 12ms/step - loss: -0.0057 - val_loss: -0.0181\n",
      "Epoch 86/150\n",
      "68/68 [==============================] - 1s 12ms/step - loss: -0.0057 - val_loss: -0.0181\n",
      "Epoch 87/150\n",
      "68/68 [==============================] - 1s 13ms/step - loss: -0.0057 - val_loss: -0.0181\n",
      "Epoch 88/150\n",
      "68/68 [==============================] - 1s 13ms/step - loss: -0.0057 - val_loss: -0.0181\n",
      "Epoch 89/150\n",
      "68/68 [==============================] - 1s 13ms/step - loss: -0.0057 - val_loss: -0.0181\n",
      "Epoch 90/150\n",
      "68/68 [==============================] - 1s 12ms/step - loss: -0.0057 - val_loss: -0.0181\n",
      "Epoch 91/150\n",
      "68/68 [==============================] - 1s 12ms/step - loss: -0.0057 - val_loss: -0.0182\n",
      "Epoch 92/150\n",
      "68/68 [==============================] - 1s 12ms/step - loss: -0.0057 - val_loss: -0.0182\n",
      "Epoch 93/150\n",
      "68/68 [==============================] - 1s 13ms/step - loss: -0.0057 - val_loss: -0.0182\n",
      "Epoch 94/150\n",
      "68/68 [==============================] - 1s 12ms/step - loss: -0.0057 - val_loss: -0.0182\n",
      "Epoch 95/150\n",
      "68/68 [==============================] - 1s 12ms/step - loss: -0.0057 - val_loss: -0.0182\n",
      "Epoch 96/150\n",
      "68/68 [==============================] - 1s 12ms/step - loss: -0.0057 - val_loss: -0.0182\n",
      "Epoch 97/150\n",
      "68/68 [==============================] - 1s 12ms/step - loss: -0.0057 - val_loss: -0.0182\n",
      "Epoch 98/150\n",
      "68/68 [==============================] - 1s 12ms/step - loss: -0.0057 - val_loss: -0.0182\n",
      "Epoch 99/150\n",
      "68/68 [==============================] - 1s 12ms/step - loss: -0.0057 - val_loss: -0.0182\n",
      "Epoch 100/150\n",
      "68/68 [==============================] - 1s 13ms/step - loss: -0.0058 - val_loss: -0.0183\n",
      "Epoch 101/150\n",
      "68/68 [==============================] - 1s 12ms/step - loss: -0.0058 - val_loss: -0.0183\n",
      "Epoch 102/150\n",
      "68/68 [==============================] - 1s 12ms/step - loss: -0.0058 - val_loss: -0.0183\n",
      "Epoch 103/150\n",
      "68/68 [==============================] - 1s 12ms/step - loss: -0.0058 - val_loss: -0.0183\n",
      "Epoch 104/150\n",
      "68/68 [==============================] - 1s 12ms/step - loss: -0.0058 - val_loss: -0.0183\n",
      "Epoch 105/150\n",
      "68/68 [==============================] - 1s 12ms/step - loss: -0.0058 - val_loss: -0.0183\n",
      "Epoch 106/150\n",
      "68/68 [==============================] - 1s 12ms/step - loss: -0.0058 - val_loss: -0.0183\n",
      "Epoch 107/150\n",
      "68/68 [==============================] - 1s 12ms/step - loss: -0.0058 - val_loss: -0.0183\n",
      "Epoch 108/150\n",
      "68/68 [==============================] - 1s 12ms/step - loss: -0.0058 - val_loss: -0.0183\n",
      "Epoch 109/150\n",
      "68/68 [==============================] - 1s 12ms/step - loss: -0.0058 - val_loss: -0.0183\n",
      "Epoch 110/150\n",
      "68/68 [==============================] - 1s 13ms/step - loss: -0.0058 - val_loss: -0.0184\n",
      "Epoch 111/150\n",
      "68/68 [==============================] - 1s 13ms/step - loss: -0.0058 - val_loss: -0.0184\n",
      "Epoch 112/150\n",
      "68/68 [==============================] - 1s 13ms/step - loss: -0.0058 - val_loss: -0.0184\n",
      "Epoch 113/150\n",
      "68/68 [==============================] - 1s 12ms/step - loss: -0.0058 - val_loss: -0.0184\n",
      "Epoch 114/150\n",
      "68/68 [==============================] - 1s 13ms/step - loss: -0.0058 - val_loss: -0.0184\n",
      "Epoch 115/150\n",
      "68/68 [==============================] - 1s 12ms/step - loss: -0.0058 - val_loss: -0.0184\n",
      "Epoch 116/150\n",
      "68/68 [==============================] - 1s 12ms/step - loss: -0.0058 - val_loss: -0.0184\n",
      "Epoch 117/150\n",
      "68/68 [==============================] - 1s 12ms/step - loss: -0.0058 - val_loss: -0.0184\n",
      "Epoch 118/150\n",
      "68/68 [==============================] - 1s 13ms/step - loss: -0.0058 - val_loss: -0.0184\n",
      "Epoch 119/150\n",
      "68/68 [==============================] - 1s 13ms/step - loss: -0.0058 - val_loss: -0.0184\n",
      "Epoch 120/150\n",
      "68/68 [==============================] - 1s 12ms/step - loss: -0.0058 - val_loss: -0.0184\n",
      "Epoch 121/150\n",
      "68/68 [==============================] - 1s 12ms/step - loss: -0.0058 - val_loss: -0.0184\n",
      "Epoch 122/150\n",
      "68/68 [==============================] - 1s 12ms/step - loss: -0.0058 - val_loss: -0.0184\n",
      "Epoch 123/150\n",
      "68/68 [==============================] - 1s 12ms/step - loss: -0.0058 - val_loss: -0.0184\n",
      "Epoch 124/150\n",
      "68/68 [==============================] - 1s 12ms/step - loss: -0.0058 - val_loss: -0.0185\n",
      "Epoch 125/150\n",
      "68/68 [==============================] - 1s 13ms/step - loss: -0.0058 - val_loss: -0.0185\n",
      "Epoch 126/150\n",
      "68/68 [==============================] - 1s 13ms/step - loss: -0.0058 - val_loss: -0.0185\n",
      "Epoch 127/150\n",
      "68/68 [==============================] - 1s 13ms/step - loss: -0.0059 - val_loss: -0.0185\n",
      "Epoch 128/150\n",
      "68/68 [==============================] - 1s 13ms/step - loss: -0.0059 - val_loss: -0.0185\n",
      "Epoch 129/150\n",
      "68/68 [==============================] - 1s 13ms/step - loss: -0.0059 - val_loss: -0.0185\n",
      "Epoch 130/150\n",
      "68/68 [==============================] - 1s 12ms/step - loss: -0.0059 - val_loss: -0.0185\n",
      "Epoch 131/150\n",
      "68/68 [==============================] - 1s 12ms/step - loss: -0.0059 - val_loss: -0.0185\n",
      "Epoch 132/150\n",
      "68/68 [==============================] - 1s 13ms/step - loss: -0.0059 - val_loss: -0.0185\n",
      "Epoch 133/150\n",
      "68/68 [==============================] - 1s 12ms/step - loss: -0.0059 - val_loss: -0.0185\n",
      "Epoch 134/150\n",
      "68/68 [==============================] - 1s 12ms/step - loss: -0.0059 - val_loss: -0.0185\n",
      "Epoch 135/150\n",
      "68/68 [==============================] - 1s 12ms/step - loss: -0.0059 - val_loss: -0.0185\n",
      "Epoch 136/150\n",
      "68/68 [==============================] - 1s 12ms/step - loss: -0.0059 - val_loss: -0.0185\n",
      "Epoch 137/150\n",
      "68/68 [==============================] - 1s 12ms/step - loss: -0.0059 - val_loss: -0.0185\n",
      "Epoch 138/150\n",
      "68/68 [==============================] - 1s 12ms/step - loss: -0.0059 - val_loss: -0.0185\n",
      "Epoch 139/150\n",
      "68/68 [==============================] - 1s 13ms/step - loss: -0.0059 - val_loss: -0.0185\n",
      "Epoch 140/150\n",
      "68/68 [==============================] - 1s 12ms/step - loss: -0.0059 - val_loss: -0.0185\n",
      "Epoch 141/150\n",
      "68/68 [==============================] - 1s 13ms/step - loss: -0.0059 - val_loss: -0.0185\n",
      "Epoch 142/150\n",
      "68/68 [==============================] - 1s 12ms/step - loss: -0.0059 - val_loss: -0.0185\n",
      "Epoch 143/150\n",
      "68/68 [==============================] - 1s 12ms/step - loss: -0.0059 - val_loss: -0.0185\n",
      "Epoch 144/150\n",
      "68/68 [==============================] - 1s 13ms/step - loss: -0.0059 - val_loss: -0.0185\n",
      "Epoch 145/150\n",
      "68/68 [==============================] - 1s 12ms/step - loss: -0.0059 - val_loss: -0.0185\n",
      "Epoch 146/150\n",
      "68/68 [==============================] - 1s 13ms/step - loss: -0.0059 - val_loss: -0.0186\n",
      "Epoch 147/150\n",
      "68/68 [==============================] - 1s 15ms/step - loss: -0.0059 - val_loss: -0.0186\n",
      "Epoch 148/150\n",
      "68/68 [==============================] - 1s 13ms/step - loss: -0.0059 - val_loss: -0.0186\n",
      "Epoch 149/150\n",
      "68/68 [==============================] - 1s 12ms/step - loss: -0.0059 - val_loss: -0.0186\n",
      "Epoch 150/150\n",
      "68/68 [==============================] - 1s 12ms/step - loss: -0.0059 - val_loss: -0.0186\n"
     ]
    }
   ],
   "source": [
    "# MPN을 학습하고 결과를 저장한다.\n",
    "hist = model.fit(xc_train, xf_train, epochs=150, batch_size=32, validation_data=(xc_test, xf_test))\n",
    "model.save(SAVE_MODEL)"
   ]
  },
  {
   "cell_type": "markdown",
   "metadata": {},
   "source": [
    "### 학습결과 확인(loss)"
   ]
  },
  {
   "cell_type": "code",
   "execution_count": 16,
   "metadata": {},
   "outputs": [
    {
     "data": {
      "image/png": "[encoded data removed]",
      "text/plain": [
       "<Figure size 432x288 with 1 Axes>"
      ]
     },
     "metadata": {},
     "output_type": "display_data"
    }
   ],
   "source": [
    "# loss trajectory를 확인한다.\n",
    "plt.figure(figsize=(6,4))\n",
    "plt.plot(hist.history['loss'], label='train loss')\n",
    "plt.plot(hist.history['val_loss'], label='validation loss')\n",
    "plt.legend()\n",
    "plt.show()"
   ]
  },
  {
   "cell_type": "markdown",
   "metadata": {
    "tags": []
   },
   "source": [
    "### 최적 투자비율 추정"
   ]
  },
  {
   "cell_type": "code",
   "execution_count": 17,
   "metadata": {},
   "outputs": [
    {
     "data": {
      "image/png": "[encoded data removed]",
      "text/plain": [
       "<Figure size 576x288 with 1 Axes>"
      ]
     },
     "metadata": {},
     "output_type": "display_data"
    }
   ],
   "source": [
    "def check_w(n=0):\n",
    "    plt.figure(figsize=(8,4))\n",
    "    y_pred = model.predict(xc_test[n].reshape(1, N_TIME, N_STOCKS))[0]\n",
    "    plt.bar(np.arange(N_STOCKS), y_pred, alpha=0.7)\n",
    "    plt.show()\n",
    "\n",
    "check_w(0)"
   ]
  },
  {
   "cell_type": "code",
   "execution_count": 18,
   "metadata": {},
   "outputs": [
    {
     "data": {
      "image/png": "[encoded data removed]",
      "text/plain": [
       "<Figure size 576x288 with 1 Axes>"
      ]
     },
     "metadata": {},
     "output_type": "display_data"
    }
   ],
   "source": [
    "check_w(100)"
   ]
  },
  {
   "cell_type": "markdown",
   "metadata": {},
   "source": [
    "## 성능 평가"
   ]
  },
  {
   "cell_type": "code",
   "execution_count": 19,
   "metadata": {},
   "outputs": [
    {
     "name": "stdout",
     "output_type": "stream",
     "text": [
      "Model: \"model\"\n",
      "_________________________________________________________________\n",
      " Layer (type)                Output Shape              Param #   \n",
      "=================================================================\n",
      " input_1 (InputLayer)        [(None, 60, 15)]          0         \n",
      "                                                                 \n",
      " lstm (LSTM)                 (None, 64)                20480     \n",
      "                                                                 \n",
      " dense (Dense)               (None, 15)                975       \n",
      "                                                                 \n",
      " activation (Activation)     (None, 15)                0         \n",
      "                                                                 \n",
      "=================================================================\n",
      "Total params: 21,455\n",
      "Trainable params: 21,455\n",
      "Non-trainable params: 0\n",
      "_________________________________________________________________\n"
     ]
    }
   ],
   "source": [
    "N_TIME = xc_test.shape[1]\n",
    "N_FUTURE = xf_test.shape[1]\n",
    "N_STOCKS = xf_test.shape[2]\n",
    "\n",
    "# 저장된 Markowitz 모델을 가져온다.\n",
    "SAVE_MODEL = '../model/mpn.h5'\n",
    "model = load_model(SAVE_MODEL, compile = False)\n",
    "model.summary()\n"
   ]
  },
  {
   "cell_type": "markdown",
   "metadata": {},
   "source": [
    "## Backtesting"
   ]
  },
  {
   "cell_type": "code",
   "execution_count": 20,
   "metadata": {},
   "outputs": [
    {
     "name": "stdout",
     "output_type": "stream",
     "text": [
      "m_rtn: [-0.15374818  0.05342144  0.06899288  0.06063476  0.04651967  0.05065759\n",
      "  0.07080823  0.0622677   0.04360246  0.0886742   0.10795595  0.11176191\n",
      "  0.05326175  0.02449545  0.01589375]\n",
      "w_prt: [0.03370053 0.13081442 0.03746325 0.06525669 0.08352388 0.09877513\n",
      " 0.07351486 0.04122456 0.05905152 0.06160716 0.08316944 0.05641244\n",
      " 0.07959973 0.04415116 0.05173527]\n",
      "m_rtn: [ 0.1787942   0.00244499  0.13574527 -0.01064635  0.05417453  0.05675762\n",
      "  0.03077121  0.04890737  0.02548155  0.06045436  0.0690286   0.10273102\n",
      "  0.01638959  0.06719752  0.00321314]\n",
      "w_prt: [0.03033336 0.10625399 0.04233656 0.09847064 0.09322017 0.06982233\n",
      " 0.04322052 0.05915759 0.05187696 0.04646339 0.10098849 0.07105982\n",
      " 0.08583088 0.04752065 0.05344466]\n",
      "m_rtn: [ 0.0726767   0.02947582  0.00801731  0.10208783  0.0337687   0.04032529\n",
      "  0.07981745  0.04421978 -0.001389    0.00621621 -0.00018681 -0.01665135\n",
      " -0.02856642  0.01309349  0.00445411]\n",
      "w_prt: [0.03214714 0.12919186 0.03474577 0.12282014 0.09826939 0.07655501\n",
      " 0.06181143 0.04497311 0.0481075  0.0521716  0.06480502 0.06384871\n",
      " 0.08787281 0.04497029 0.03771036]\n",
      "m_rtn: [0.06004459 0.06594536 0.25601262 0.05833922 0.01875713 0.06897846\n",
      " 0.07559378 0.05516216 0.01159677 0.06043443 0.07700672 0.06856796\n",
      " 0.02523109 0.02721348 0.015302  ]\n",
      "w_prt: [0.0475678  0.08464857 0.03418219 0.04247401 0.03259712 0.04466912\n",
      " 0.06447415 0.04298563 0.13508447 0.12863582 0.03816732 0.10816436\n",
      " 0.1319466  0.03734444 0.02705846]\n",
      "m_rtn: [ 0.0487656   0.03382755  0.19703291  0.02850094  0.03322468  0.01505153\n",
      "  0.01615064  0.0249761   0.032516    0.04635772  0.02299209  0.03158037\n",
      "  0.02488554 -0.00404115 -0.00465439]\n",
      "w_prt: [0.03910128 0.08665767 0.0519728  0.06565183 0.06612945 0.03856459\n",
      " 0.06823504 0.06124869 0.06999417 0.06676    0.08719855 0.07532504\n",
      " 0.12301421 0.06136938 0.03877738]\n",
      "m_rtn: [-0.03693286 -0.00107354 -0.026911    0.02483085  0.02537381  0.00294675\n",
      "  0.00979362  0.00675423  0.00223074 -0.01890222 -0.00874517 -0.01179042\n",
      " -0.00804147  0.01128045 -0.0012215 ]\n",
      "w_prt: [0.03274114 0.06125146 0.04672397 0.06147074 0.0493139  0.0637674\n",
      " 0.09400132 0.07108516 0.06026145 0.11226631 0.09338731 0.07986563\n",
      " 0.09954166 0.03369802 0.04062453]\n",
      "m_rtn: [-0.01338115 -0.027772   -0.10611846  0.02784944 -0.00052562 -0.01240628\n",
      "  0.02364916  0.00410546 -0.00277283  0.04910026  0.06243985  0.06915348\n",
      "  0.01256938 -0.01823048 -0.00108558]\n",
      "w_prt: [0.05919663 0.08216041 0.03080974 0.04374805 0.02853348 0.06121575\n",
      " 0.0489929  0.03154103 0.12691197 0.14084217 0.04250066 0.10810715\n",
      " 0.12483534 0.04195912 0.02864564]\n",
      "m_rtn: [-0.01561719 -0.00609251  0.02118348  0.07954893  0.07391074  0.06435098\n",
      "  0.05204019  0.05860518  0.0807157   0.03092827  0.04172303  0.05673897\n",
      "  0.05703752  0.04273557 -0.00048276]\n",
      "w_prt: [0.03563951 0.04086008 0.03917611 0.04646742 0.03360488 0.04234003\n",
      " 0.06273781 0.05998829 0.09186123 0.12345385 0.10136556 0.10459955\n",
      " 0.1351939  0.04783792 0.03487392]\n",
      "m_rtn: [ 0.11002538 -0.03160534 -0.03284806  0.04254379  0.05650494  0.03992329\n",
      "  0.03993036  0.04729884  0.00918823  0.01807231  0.04470083  0.07698854\n",
      " -0.02329932  0.03203829  0.0044569 ]\n",
      "w_prt: [0.02510788 0.11126183 0.03262745 0.10852578 0.0845529  0.03660289\n",
      " 0.05971659 0.04942439 0.05991941 0.06603898 0.08097837 0.1033541\n",
      " 0.10416553 0.03311524 0.04460862]\n",
      "m_rtn: [ 0.0873967   0.0102682   0.05615511  0.11710628  0.06024466  0.04934659\n",
      "  0.07571833  0.05838142  0.00969281  0.0450777   0.05784688  0.08674078\n",
      "  0.00532544 -0.00066093 -0.00403675]\n",
      "w_prt: [0.0551107  0.07834575 0.03881381 0.04087217 0.03957725 0.0683182\n",
      " 0.05991083 0.04123543 0.12986907 0.10737451 0.06017729 0.11792707\n",
      " 0.08528502 0.04428219 0.03290075]\n",
      "m_rtn: [ 0.07306153 -0.01198987  0.06802539  0.07930542  0.02058956  0.00772503\n",
      "  0.06443164  0.02881362  0.05462093  0.02877701  0.03822673  0.05309893\n",
      "  0.06980434  0.00900898 -0.00271798]\n",
      "w_prt: [0.02924138 0.05565052 0.02909367 0.06278453 0.04697134 0.03649277\n",
      " 0.03447825 0.05007395 0.0552945  0.12784547 0.14660394 0.13164687\n",
      " 0.11632004 0.04168336 0.03581942]\n",
      "m_rtn: [ 0.12124647 -0.05732736 -0.04316631 -0.08111519 -0.02485569  0.02015863\n",
      " -0.05912047 -0.01208865  0.0284483   0.0087033   0.00722312  0.0203658\n",
      "  0.02386422 -0.04946606 -0.0248895 ]\n",
      "w_prt: [0.03493598 0.11374645 0.03340038 0.08922108 0.08608846 0.04809903\n",
      " 0.03859109 0.08077153 0.03520516 0.05633252 0.0753153  0.09305796\n",
      " 0.0851277  0.0722059  0.05790151]\n",
      "m_rtn: [-0.0648071   0.00364299 -0.04207122 -0.00952928  0.01353826  0.02374653\n",
      " -0.01799239  0.00922123  0.02306802  0.04688467  0.02151032 -0.01106481\n",
      "  0.03608645 -0.00647553  0.00467289]\n",
      "w_prt: [0.03751952 0.08629931 0.03474455 0.06293395 0.09895965 0.05139153\n",
      " 0.07046071 0.04322163 0.04363829 0.05650801 0.12810452 0.08435831\n",
      " 0.06663978 0.07282189 0.06239836]\n",
      "m_rtn: [ 0.08863445  0.05998271  0.09554689 -0.03025002  0.01295835  0.04224391\n",
      "  0.01226441  0.02784848  0.04391917  0.01523675  0.01320696  0.00753323\n",
      "  0.04428899  0.02809576  0.00395739]\n",
      "w_prt: [0.03969075 0.06005741 0.02917426 0.05366782 0.04709801 0.04260395\n",
      " 0.03577777 0.04079252 0.0829092  0.13717481 0.11824188 0.11654488\n",
      " 0.0931421  0.06901754 0.03410706]\n",
      "m_rtn: [0.05980955 0.02897123 0.01020417 0.01245087 0.00582411 0.03312846\n",
      " 0.03848792 0.02605269 0.05546472 0.01035648 0.02209771 0.03661926\n",
      " 0.06093162 0.01505956 0.00477398]\n",
      "w_prt: [0.03094896 0.08482952 0.04767186 0.05047461 0.07601861 0.05234359\n",
      " 0.08247247 0.04712644 0.06773119 0.08731195 0.12466845 0.08071326\n",
      " 0.08871564 0.03513895 0.04383449]\n",
      "m_rtn: [-0.00654452 -0.04915063 -0.05497874 -0.02404218 -0.01927777 -0.01992043\n",
      " -0.02301707 -0.01877212 -0.01015265  0.03167612  0.01217116 -0.02278609\n",
      "  0.00031694 -0.0309135   0.01105697]\n",
      "w_prt: [0.04130194 0.09301056 0.03141531 0.0564615  0.05409519 0.04770378\n",
      " 0.04097126 0.04431877 0.04772865 0.09151907 0.1397121  0.10616953\n",
      " 0.07038088 0.08490267 0.05030883]\n",
      "m_rtn: [ 0.00131232  0.00493828 -0.02930306 -0.03919792  0.00048535  0.02086038\n",
      " -0.02404288  0.00122154  0.01812727  0.01063517  0.00943955 -0.00989732\n",
      "  0.01805083  0.00536798  0.00693698]\n",
      "w_prt: [0.02528223 0.03607319 0.02746625 0.08244023 0.04063923 0.0322449\n",
      " 0.04580881 0.04158477 0.06931639 0.15526564 0.12801103 0.13771175\n",
      " 0.11416457 0.02857422 0.03541686]\n",
      "m_rtn: [ 0.01432316  0.00115842 -0.05098033 -0.00682341  0.00967265  0.01390588\n",
      "  0.02064338  0.01347942  0.0302261   0.02893507  0.0315488   0.03349699\n",
      "  0.04203153  0.0066631  -0.00406211]\n",
      "w_prt: [0.03835676 0.03977305 0.05116537 0.07620884 0.05263586 0.03804218\n",
      " 0.06232065 0.10272142 0.05895891 0.12104515 0.079869   0.08208429\n",
      " 0.10383255 0.04072732 0.0522586 ]\n",
      "m_rtn: [ 0.09076912 -0.03355229 -0.08632077 -0.08008192 -0.02090959 -0.06241268\n",
      " -0.04619354 -0.04402624 -0.06874031 -0.04881749 -0.0449045  -0.03773227\n",
      " -0.07674211 -0.03668697 -0.00953354]\n",
      "w_prt: [0.03165962 0.09729061 0.03622104 0.09853903 0.0753323  0.05602374\n",
      " 0.04139327 0.05921483 0.03662641 0.0733765  0.1159804  0.11304372\n",
      " 0.07530688 0.04286499 0.04712662]\n",
      "m_rtn: [ 0.07886727  0.02395501  0.08184046  0.0434175   0.0020953   0.0564471\n",
      "  0.02546923  0.03677948  0.07232968  0.06624044  0.06337385  0.05012456\n",
      "  0.08010892 -0.01000885  0.00017125]\n",
      "w_prt: [0.02799894 0.03850376 0.02834615 0.03035866 0.03090846 0.05633196\n",
      " 0.04758978 0.03264697 0.09744076 0.15910698 0.10801318 0.14590642\n",
      " 0.14358854 0.02465226 0.02860711]\n",
      "m_rtn: [-0.12414531 -0.0076269  -0.04125241 -0.05667648 -0.04315419 -0.05720827\n",
      " -0.04505462 -0.04950627 -0.01690322  0.0017308  -0.00704163 -0.02376771\n",
      " -0.01015516 -0.03999919  0.00025813]\n",
      "w_prt: [0.02746742 0.0791493  0.03117014 0.07794476 0.06617692 0.0474855\n",
      " 0.05764182 0.03331577 0.0725005  0.10832992 0.12297595 0.10012377\n",
      " 0.09481451 0.03595711 0.04494659]\n",
      "m_rtn: [ 0.06225828  0.01519608 -0.00187354  0.0044683   0.02634673  0.05227607\n",
      "  0.01590907  0.03474162  0.04456229  0.04238738  0.02086608  0.01421\n",
      "  0.06303568  0.025911    0.00015801]\n",
      "w_prt: [0.02387656 0.04410552 0.02370581 0.0265606  0.02442489 0.063042\n",
      " 0.03724844 0.02688028 0.15000047 0.15564345 0.11323886 0.11859765\n",
      " 0.1436378  0.02576093 0.02327665]\n",
      "m_rtn: [ 0.08773659  0.01867602  0.0318366   0.00065083 -0.04742641 -0.05764848\n",
      " -0.00711908 -0.04101799 -0.06158948 -0.09395302 -0.1122164  -0.10241311\n",
      " -0.07843519 -0.00368786 -0.02006676]\n",
      "w_prt: [0.02978693 0.12263437 0.0325851  0.08485818 0.10143384 0.06597093\n",
      " 0.07413729 0.03041212 0.04500608 0.03847895 0.11899385 0.09844232\n",
      " 0.07834473 0.03112735 0.04778801]\n",
      "m_rtn: [ 0.08749859  0.03303771  0.03173451 -0.04579531 -0.01333437 -0.02082332\n",
      " -0.01067109 -0.01532713 -0.03119562 -0.0295981  -0.02304867 -0.02259428\n",
      " -0.0520415   0.0103198  -0.02323464]\n",
      "w_prt: [0.03630379 0.04810167 0.03935514 0.0286758  0.04082215 0.09003606\n",
      " 0.05110622 0.03856301 0.12834793 0.13700943 0.04756205 0.13692705\n",
      " 0.12171956 0.0265272  0.02894291]\n",
      "m_rtn: [ 0.1788246   0.01855442  0.02218929 -0.05028291  0.00449204 -0.02228867\n",
      " -0.04573052 -0.01035633  0.03398653  0.0540062   0.05216813  0.05400779\n",
      "  0.05220866 -0.0753499  -0.0176711 ]\n",
      "w_prt: [0.03372721 0.05386418 0.04369242 0.03202499 0.05069267 0.07960939\n",
      " 0.06830698 0.04609603 0.1030421  0.15574445 0.05662898 0.08266667\n",
      " 0.13329308 0.0272062  0.03340462]\n"
     ]
    }
   ],
   "source": [
    "\n",
    "# 백 테스트를 수행한다.\n",
    "prt_value = [10000]   # portfolio의 초기 value\n",
    "crp_value = [10000]   # CRP의 초기 value\n",
    "w_crp = np.ones(N_STOCKS) / N_STOCKS   # CRP 비율 (균등 비율)\n",
    "\n",
    "w_history = []\n",
    "for i in range(0, xc_test.shape[0], N_FUTURE):\n",
    "    # 이 시점에 각 종목을 w_prt 비율대로 매수한다.\n",
    "    # 학습할 때 월간 수익률로 변환했으므로, 여기서도 변환해야 한다.\n",
    "    x = xc_test[i][np.newaxis,:,:] * 20.0\n",
    "    w_prt = model.predict(x)[0]\n",
    "    w_history.append(w_prt)\n",
    "\n",
    "    # 다음 기의 누적 수익률\n",
    "    m_rtn = np.sum(xf_test[i]/20, axis = 0)\n",
    "\n",
    "    # 누적 수익률과 w_prt (W)로 포트폴리오의 수익률을 계산한다.\n",
    "    prt_value.append(prt_value[-1] * np.exp(np.dot(w_prt, m_rtn)))\n",
    "    print(f\"m_rtn: {m_rtn}\")\n",
    "    print(f\"w_prt: {w_prt}\")\n",
    "    crp_value.append(crp_value[-1] * np.exp(np.dot(w_crp, m_rtn)))\n"
   ]
  },
  {
   "cell_type": "code",
   "execution_count": 21,
   "metadata": {},
   "outputs": [],
   "source": [
    "np_w_history = np.array(w_history)\n"
   ]
  },
  {
   "cell_type": "code",
   "execution_count": 22,
   "metadata": {},
   "outputs": [
    {
     "data": {
      "text/plain": [
       "array([-0.15374818,  0.05342144,  0.06899288,  0.06063476,  0.04651967,\n",
       "        0.05065759,  0.07080823,  0.0622677 ,  0.04360246,  0.0886742 ,\n",
       "        0.10795595,  0.11176191,  0.05326175,  0.02449545,  0.01589375],\n",
       "      dtype=float32)"
      ]
     },
     "execution_count": 22,
     "metadata": {},
     "output_type": "execute_result"
    }
   ],
   "source": [
    "np.sum(xf_test[0]/20,axis=0)"
   ]
  },
  {
   "cell_type": "code",
   "execution_count": 23,
   "metadata": {},
   "outputs": [
    {
     "data": {
      "text/plain": [
       "array([0.03370053, 0.13081442, 0.03746325, 0.06525669, 0.08352388,\n",
       "       0.09877513, 0.07351486, 0.04122456, 0.05905152, 0.06160716,\n",
       "       0.08316944, 0.05641244, 0.07959973, 0.04415116, 0.05173527],\n",
       "      dtype=float32)"
      ]
     },
     "execution_count": 23,
     "metadata": {},
     "output_type": "execute_result"
    }
   ],
   "source": [
    "w_history[0]"
   ]
  },
  {
   "cell_type": "code",
   "execution_count": 24,
   "metadata": {},
   "outputs": [
    {
     "data": {
      "text/plain": [
       "<AxesSubplot:>"
      ]
     },
     "execution_count": 24,
     "metadata": {},
     "output_type": "execute_result"
    },
    {
     "data": {
      "image/png": "[encoded data removed]",
      "text/plain": [
       "<Figure size 432x288 with 1 Axes>"
      ]
     },
     "metadata": {},
     "output_type": "display_data"
    }
   ],
   "source": [
    "pd.DataFrame(np_w_history).plot()"
   ]
  },
  {
   "cell_type": "code",
   "execution_count": 25,
   "metadata": {},
   "outputs": [
    {
     "data": {
      "text/plain": [
       "[10000,\n",
       " 10559.85689163208,\n",
       " 11065.715171376667,\n",
       " 11399.501441121793,\n",
       " 12044.768649494923,\n",
       " 12470.63551588868,\n",
       " 12440.965641741966,\n",
       " 12601.925653470242,\n",
       " 13206.313046840773,\n",
       " 13552.909557424331,\n",
       " 14182.216273702157,\n",
       " 14776.248806462874,\n",
       " 14564.378780522247,\n",
       " 14640.534126731063,\n",
       " 15035.792916359693,\n",
       " 15470.754334418576,\n",
       " 15285.527241174957,\n",
       " 15301.276315627534,\n",
       " 15550.453074438128,\n",
       " 14875.508886780588,\n",
       " 15723.379810663808,\n",
       " 15316.639009055978,\n",
       " 15858.277033171827,\n",
       " 15214.641742504307,\n",
       " 14945.671524026086,\n",
       " 15322.382760943703]"
      ]
     },
     "execution_count": 25,
     "metadata": {},
     "output_type": "execute_result"
    }
   ],
   "source": [
    "prt_value"
   ]
  },
  {
   "cell_type": "code",
   "execution_count": 26,
   "metadata": {},
   "outputs": [
    {
     "data": {
      "text/plain": [
       "[10000,\n",
       " 10481.359530076772,\n",
       " 11086.129210784076,\n",
       " 11376.14531775581,\n",
       " 12115.242442087274,\n",
       " 12565.338489290254,\n",
       " 12539.892060589742,\n",
       " 12595.67165419617,\n",
       " 13142.37366772924,\n",
       " 13528.10770953954,\n",
       " 14188.187998329926,\n",
       " 14748.310563598825,\n",
       " 14628.82522292637,\n",
       " 14658.533375835672,\n",
       " 15120.53585547675,\n",
       " 15550.134678536444,\n",
       " 15319.302986512897,\n",
       " 15314.13049906479,\n",
       " 15503.3667426583,\n",
       " 14889.628083189045,\n",
       " 15571.03223919656,\n",
       " 15039.981956078696,\n",
       " 15467.519718171248,\n",
       " 14973.731115136841,\n",
       " 14849.395825134363,\n",
       " 15097.709762006512]"
      ]
     },
     "execution_count": 26,
     "metadata": {},
     "output_type": "execute_result"
    }
   ],
   "source": [
    "crp_value"
   ]
  },
  {
   "cell_type": "code",
   "execution_count": 27,
   "metadata": {},
   "outputs": [],
   "source": [
    "\n",
    "# 평가 시점의 날짜를 발췌한다.\n",
    "# idx = np.arange(0, len(test_date), N_FUTURE)\n",
    "\n",
    "# Markowitz 성과와 CRP 성과를 데이터 프레임에 기록해 둔다.\n",
    "# perf_df = pd.DataFrame({'crp':crp_value, 'markowitz':prt_value}, index=test_date[idx])\n",
    "perf_df = pd.DataFrame({'crp':crp_value, 'markowitz':prt_value})"
   ]
  },
  {
   "cell_type": "code",
   "execution_count": 28,
   "metadata": {},
   "outputs": [
    {
     "data": {
      "text/plain": [
       "<AxesSubplot:>"
      ]
     },
     "execution_count": 28,
     "metadata": {},
     "output_type": "execute_result"
    },
    {
     "data": {
      "image/png": "[encoded data removed]",
      "text/plain": [
       "<Figure size 432x288 with 1 Axes>"
      ]
     },
     "metadata": {},
     "output_type": "display_data"
    }
   ],
   "source": [
    "perf_df.plot()"
   ]
  },
  {
   "cell_type": "code",
   "execution_count": null,
   "metadata": {},
   "outputs": [],
   "source": [
    "training_inputs[0][:2]"
   ]
  },
  {
   "cell_type": "code",
   "execution_count": null,
   "metadata": {},
   "outputs": [],
   "source": [
    "training_inputs[1][:2]"
   ]
  },
  {
   "cell_type": "code",
   "execution_count": null,
   "metadata": {},
   "outputs": [],
   "source": [
    "training_inputs[0][1][0]"
   ]
  },
  {
   "cell_type": "code",
   "execution_count": null,
   "metadata": {},
   "outputs": [],
   "source": [
    "# training_inputs = np.array(training_inputs)\n",
    "type(training_inputs)"
   ]
  },
  {
   "cell_type": "code",
   "execution_count": null,
   "metadata": {},
   "outputs": [],
   "source": []
  },
  {
   "cell_type": "code",
   "execution_count": null,
   "metadata": {},
   "outputs": [],
   "source": [
    "training_inputs[0]"
   ]
  },
  {
   "cell_type": "code",
   "execution_count": null,
   "metadata": {},
   "outputs": [],
   "source": [
    "xc_train.to_numpy()"
   ]
  },
  {
   "cell_type": "code",
   "execution_count": null,
   "metadata": {},
   "outputs": [],
   "source": []
  }
 ],
 "metadata": {
  "interpreter": {
   "hash": "38975e1155517b59f8c43fae6b2cd5fc2c10decd5084c524c2b39939c331f457"
  },
  "kernelspec": {
   "display_name": "aa",
   "language": "python",
   "name": "aa"
  },
  "language_info": {
   "codemirror_mode": {
    "name": "ipython",
    "version": 3
   },
   "file_extension": ".py",
   "mimetype": "text/x-python",
   "name": "python",
   "nbconvert_exporter": "python",
   "pygments_lexer": "ipython3",
   "version": "3.9.7"
  },
  "toc-autonumbering": false,
  "toc-showcode": false,
  "toc-showmarkdowntxt": false
 },
 "nbformat": 4,
 "nbformat_minor": 4
}
