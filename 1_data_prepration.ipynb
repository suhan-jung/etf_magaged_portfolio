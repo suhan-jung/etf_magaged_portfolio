{
 "cells": [
  {
   "cell_type": "markdown",
   "metadata": {},
   "source": [
    "# 데이터 전처리"
   ]
  },
  {
   "cell_type": "markdown",
   "metadata": {},
   "source": [
    "필요 라이브러리 로드 및 환경변수 설정"
   ]
  },
  {
   "cell_type": "code",
   "execution_count": 1,
   "metadata": {},
   "outputs": [],
   "source": [
    "%matplotlib inline\n",
    "\n",
    "import pandas as pd\n",
    "import numpy as np\n",
    "import matplotlib.pyplot as plt\n",
    "import referenceBL\n",
    "import datetime\n",
    "import importlib\n",
    "importlib.reload(referenceBL)\n",
    "\n",
    "plt.style.use('seaborn-whitegrid')\n",
    "plt.rc('font', family=\"Malgun Gothic\")\n",
    "plt.rc('axes', unicode_minus=False)"
   ]
  },
  {
   "cell_type": "markdown",
   "metadata": {},
   "source": [
    "### Bloomberg 가격 데이터 불러오기"
   ]
  },
  {
   "cell_type": "code",
   "execution_count": 3,
   "metadata": {},
   "outputs": [
    {
     "data": {
      "text/plain": [
       "['AAPL US Equity',\n",
       " 'MSFT US Equity',\n",
       " 'GOOGL US Equity',\n",
       " 'GOOG US Equity',\n",
       " 'AMZN US Equity',\n",
       " 'TSLA US Equity',\n",
       " 'FB US Equity',\n",
       " 'BRK/B US Equity',\n",
       " 'NVDA US Equity',\n",
       " 'V US Equity',\n",
       " 'UNH US Equity',\n",
       " 'JNJ US Equity',\n",
       " 'JPM US Equity',\n",
       " 'PG US Equity',\n",
       " 'WMT US Equity',\n",
       " 'HD US Equity',\n",
       " 'BAC US Equity',\n",
       " 'MA US Equity',\n",
       " 'XOM US Equity',\n",
       " 'PFE US Equity',\n",
       " 'KO US Equity',\n",
       " 'DIS US Equity',\n",
       " 'CVX US Equity',\n",
       " 'PEP US Equity',\n",
       " 'CSCO US Equity',\n",
       " 'ADBE US Equity',\n",
       " 'ABBV US Equity',\n",
       " 'LLY US Equity',\n",
       " 'TMO US Equity',\n",
       " 'CMCSA US Equity',\n",
       " 'NKE US Equity',\n",
       " 'VZ US Equity',\n",
       " 'ABT US Equity',\n",
       " 'ACN US Equity',\n",
       " 'AVGO US Equity',\n",
       " 'ORCL US Equity',\n",
       " 'CRM US Equity',\n",
       " 'COST US Equity',\n",
       " 'INTC US Equity',\n",
       " 'WFC US Equity',\n",
       " 'MRK US Equity',\n",
       " 'DHR US Equity',\n",
       " 'PYPL US Equity',\n",
       " 'MCD US Equity',\n",
       " 'T US Equity',\n",
       " 'QCOM US Equity',\n",
       " 'NFLX US Equity',\n",
       " 'UPS US Equity',\n",
       " 'MS US Equity',\n",
       " 'SCHW US Equity']"
      ]
     },
     "execution_count": 3,
     "metadata": {},
     "output_type": "execute_result"
    }
   ],
   "source": [
    "# 데이터 로딩하려는 대상 티커 리스트를 가져온다.\n",
    "# file_tickers = 'tickers.csv'\n",
    "file_tickers = 'snp_top50.csv'\n",
    "tickers = pd.read_csv(file_tickers, header=None)\n",
    "tickers = tickers[0].tolist()\n",
    "tickers"
   ]
  },
  {
   "cell_type": "code",
   "execution_count": 4,
   "metadata": {},
   "outputs": [],
   "source": [
    "# 각 티커별로 이름, 통화, 거래소, 종목유형, 생성일, 수정일을 저장할 데이터프레임을 생성한다.\n",
    "blp = referenceBL.BLPInterface()\n",
    "master_table = []\n",
    "for ticker in tickers:\n",
    "    temp = []\n",
    "    try:\n",
    "        currency = blp.referenceRequest(securities=ticker, fields='CRNCY')\n",
    "        temp.append(currency)\n",
    "        exchange = blp.referenceRequest(securities=ticker, fields='CDR_EXCH_CODE')\n",
    "        temp.append(exchange)\n",
    "        description = blp.referenceRequest(securities=ticker, fields='name')\n",
    "        temp.append(description)\n",
    "        sec_type = blp.referenceRequest(securities=ticker, fields='SECURITY_TYP')\n",
    "        temp.append(sec_type)\n",
    "        created_date = datetime.datetime.now()\n",
    "        temp.append(created_date)\n",
    "        last_updated_date = datetime.datetime.now()\n",
    "        temp.append(last_updated_date)\n",
    "        master_table.append(temp)\n",
    "    except Exception:\n",
    "        print(\"{} was not completed for master table\".format(ticker))\n",
    "        pass\n",
    "blp.close()\n",
    "master_df = pd.DataFrame(master_table, index=tickers,\n",
    "                            columns=['CURRENCY', 'EXC_CODE', 'DESCRIPTION',\n",
    "                                    'TYPE', 'CREATED_DATE', 'UPDATED_DATE'])\n",
    "master_df['BLCODE'] = tickers\n",
    "master_df.index.names = ['EQID']\n",
    "save_id_df = 'master_df.csv'\n",
    "master_df.to_csv(save_id_df)"
   ]
  },
  {
   "cell_type": "code",
   "execution_count": 5,
   "metadata": {},
   "outputs": [
    {
     "name": "stdout",
     "output_type": "stream",
     "text": [
      "AAPL US Equity\n",
      "MSFT US Equity\n",
      "GOOGL US Equity\n",
      "GOOG US Equity\n",
      "AMZN US Equity\n",
      "TSLA US Equity\n",
      "FB US Equity\n",
      "BRK/B US Equity\n",
      "NVDA US Equity\n",
      "V US Equity\n",
      "UNH US Equity\n",
      "JNJ US Equity\n",
      "JPM US Equity\n",
      "PG US Equity\n",
      "WMT US Equity\n",
      "HD US Equity\n",
      "BAC US Equity\n",
      "MA US Equity\n",
      "XOM US Equity\n",
      "PFE US Equity\n",
      "KO US Equity\n",
      "DIS US Equity\n",
      "CVX US Equity\n",
      "PEP US Equity\n",
      "CSCO US Equity\n",
      "ADBE US Equity\n",
      "ABBV US Equity\n",
      "LLY US Equity\n",
      "TMO US Equity\n",
      "CMCSA US Equity\n",
      "NKE US Equity\n",
      "VZ US Equity\n",
      "ABT US Equity\n",
      "ACN US Equity\n",
      "AVGO US Equity\n",
      "ORCL US Equity\n",
      "CRM US Equity\n",
      "COST US Equity\n",
      "INTC US Equity\n",
      "WFC US Equity\n",
      "MRK US Equity\n",
      "DHR US Equity\n",
      "PYPL US Equity\n",
      "MCD US Equity\n",
      "T US Equity\n",
      "QCOM US Equity\n",
      "NFLX US Equity\n",
      "UPS US Equity\n",
      "MS US Equity\n",
      "SCHW US Equity\n"
     ]
    }
   ],
   "source": [
    "# 실제로 historicalRequest를 통해 데이터를 가져온다.\n",
    "blp = referenceBL.BLPInterface()\n",
    "today = datetime.datetime.today()\n",
    "today = '{:02d}{:02d}{:02d}'.format(today.year, today.month, today.day)\n",
    "data_table_all = []\n",
    "for ticker in tickers:\n",
    "    data_name = blp.referenceRequest(ticker, 'NAME')\n",
    "    data_table = blp.historicalRequest(\n",
    "        securities=ticker, \n",
    "        fields=['PX_Last'], \n",
    "        startDate='20000103', \n",
    "        endDate=today)\n",
    "    data_table.columns = [ticker]\n",
    "    data_table_all.append(data_table)\n",
    "    print(ticker)\n",
    "\n",
    "blp.close()\n",
    "data = pd.concat(data_table_all, axis=1)\n",
    "\n",
    "save_id_data = 'data.csv'\n",
    "data.to_csv(save_id_data)"
   ]
  },
  {
   "cell_type": "markdown",
   "metadata": {},
   "source": [
    "### 데이터 전처리(N/A 제거)"
   ]
  },
  {
   "cell_type": "code",
   "execution_count": 10,
   "metadata": {},
   "outputs": [],
   "source": [
    "data = data.dropna(axis=1)"
   ]
  },
  {
   "cell_type": "code",
   "execution_count": 9,
   "metadata": {},
   "outputs": [],
   "source": [
    "# ./data 폴더의 BloombergMain.py(융기원 코드)를 통해 생성한 csv파일을 불러온다.\n",
    "data = pd.read_csv('data.csv', index_col=0, parse_dates=True)"
   ]
  },
  {
   "cell_type": "code",
   "execution_count": 11,
   "metadata": {},
   "outputs": [],
   "source": [
    "def preprocessing(data):\n",
    "    # 일자별 종가인 dataframe을 받아서 nan값 제거, linear interpolation을 한후 로그일간수익율로 변환하여 반환한다.\n",
    "    df = data.dropna(thresh=4)\n",
    "    df = df.interpolate(method='linear', limit_direction='forward')  # 연휴에 따른 급격한 변화를 smoothing해주기 위해 interpolation\n",
    "    df = df.dropna()\n",
    "    dr = np.log(df).diff(1).dropna()\n",
    "    return dr"
   ]
  },
  {
   "cell_type": "code",
   "execution_count": 12,
   "metadata": {},
   "outputs": [],
   "source": [
    "df = preprocessing(data)\n",
    "df.to_csv('data_preprocessed.csv')"
   ]
  },
  {
   "cell_type": "code",
   "execution_count": null,
   "metadata": {},
   "outputs": [],
   "source": []
  }
 ],
 "metadata": {
  "interpreter": {
   "hash": "109c2a33be31b878126d2974032d2772872adf0e3620ef15c7c3dedf4788014f"
  },
  "kernelspec": {
   "display_name": "aa",
   "language": "python",
   "name": "python3"
  },
  "language_info": {
   "codemirror_mode": {
    "name": "ipython",
    "version": 3
   },
   "file_extension": ".py",
   "mimetype": "text/x-python",
   "name": "python",
   "nbconvert_exporter": "python",
   "pygments_lexer": "ipython3",
   "version": "3.9.7"
  },
  "toc-autonumbering": false,
  "toc-showcode": false,
  "toc-showmarkdowntxt": false
 },
 "nbformat": 4,
 "nbformat_minor": 4
}
