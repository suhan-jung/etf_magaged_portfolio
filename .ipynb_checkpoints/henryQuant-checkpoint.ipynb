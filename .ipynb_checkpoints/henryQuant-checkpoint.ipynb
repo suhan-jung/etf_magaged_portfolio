{
 "cells": [
  {
   "cell_type": "code",
   "execution_count": 2,
   "metadata": {},
   "outputs": [],
   "source": [
    "import pandas as pd\n",
    "import numpy as np\n",
    "import sys\n",
    "from progressbar import ProgressBar\n",
    "from datetime import timedelta"
   ]
  },
  {
   "cell_type": "code",
   "execution_count": 3,
   "metadata": {},
   "outputs": [],
   "source": [
    "def endpoints(R, freq):\n",
    "    \n",
    "    # freq: W, M, Q, Y    \n",
    "    if isinstance(R.index, pd.DatetimeIndex) :\n",
    "    \n",
    "        s = pd.Series(np.arange(R.shape[0]), index = R.index)\n",
    "        ep = s.resample(freq).max()    \n",
    "        return(ep)\n",
    "    \n",
    "    else:\n",
    "        sys.exit('Error: R is not DatetimeIndex type')"
   ]
  },
  {
   "cell_type": "code",
   "execution_count": 4,
   "metadata": {},
   "outputs": [],
   "source": [
    "def periodicity(R):\n",
    "    med  = np.median(np.diff(R.index.values))\n",
    "    seconds = int(med.astype('timedelta64[s]').item().total_seconds())  \n",
    "    \n",
    "    return(seconds)"
   ]
  },
  {
   "cell_type": "code",
   "execution_count": 5,
   "metadata": {},
   "outputs": [],
   "source": [
    "\n",
    "# R: Return, form of dataframes with indexe as Datetime\n",
    "# weights: weights, form of single list or dataframe\n",
    "# rebalance_on: rebalancing period, form of character\n",
    "\n",
    "def ReturnPortfolio(R, weights, rebalance_on = [np.nan, 'Y', 'Q', 'M', 'W']) :\n",
    "    \n",
    "    rebalance_on = rebalance_on[0]        \n",
    "    start_date = (R.index[0] + timedelta(seconds = -periodicity(R))).strftime('%Y-%m-%d')\n",
    "    \n",
    "    # When rebalancing weights are fixed (single list form)\n",
    "    if type(weights) == list:\n",
    "        \n",
    "        if pd.isnull(rebalance_on):\n",
    "            # then use the weights only at the beginning of the returns series, without rebalancing\n",
    "            weights = pd.DataFrame([weights], columns = R.columns)\n",
    "            weights.index = [start_date]\n",
    "        \n",
    "        else :\n",
    "            ep = endpoints(R, rebalance_on)\n",
    "            #  generate a time series of the given weights at the endpoints\n",
    "            weights = pd.DataFrame(np.repeat([weights],len(ep) + 1,axis=0), columns = R.columns)\n",
    "            ep_list = ep.index.format()    \n",
    "            weights.index = [start_date] + ep_list\n",
    "\n",
    "    weights.index = pd.to_datetime(weights.index)\n",
    "    \n",
    "    if R.isnull().values.any() :\n",
    "        print(\"NA's detected: filling NA's with zeros\")\n",
    "        R[np.isnan(R)] = 0\n",
    "\n",
    "    if not isinstance(R.index, pd.DatetimeIndex) :\n",
    "        sys.exit('The index of returns is not Datetime.')    \n",
    "\n",
    "    if R.shape[1] != weights.shape[1] :\n",
    "        sys.exit(\"The number of columns in the Return and Weights are different.\")\n",
    "\n",
    "    if R.index[-1] < weights.index[0] + pd.DateOffset(days=1) :\n",
    "        sys.exit(\"The starting date for rebalancing is incorrect.\")   \n",
    "        \n",
    "    if (round(weights.sum(axis = 1), 4) != 1).values.sum() >= 1 :\n",
    "        sys.exit(\"There is a rebalancing point with a sum of weight than 1.\")\n",
    "    \n",
    "\n",
    "    # Subset the R object if the first rebalance date is after the first date \n",
    "    # in the return series\n",
    "    if R.index[0] < weights.index[0] :\n",
    "        R = R.loc[R.index >= weights.index[0] + pd.DateOffset(days=1)]    \n",
    "\n",
    "    df_zero1 = pd.DataFrame(data = np.zeros(shape = (R.shape[0], R.shape[1])), index = R.index, columns = R.columns)\n",
    "    df_zero2 = pd.DataFrame(data = np.zeros(shape = R.shape[0]), index = R.index, columns = ['Portfolio'])\n",
    "    \n",
    "    # bop = beginning of period\n",
    "    # eop = end of period\n",
    "    # Initialize objects\n",
    "    bop_value = df_zero1.copy()\n",
    "    eop_value = df_zero1.copy()\n",
    "    bop_weights = df_zero1.copy()\n",
    "    eop_weights = df_zero1.copy()\n",
    "    period_contrib = df_zero1.copy()\n",
    "\n",
    "    bop_value_total = df_zero2.copy()\n",
    "    eop_value_total = df_zero2.copy()\n",
    "    ret = df_zero2.copy()\n",
    "\n",
    "    # The end_value is the end of period total value from the prior period\n",
    "    end_value = 1\n",
    "\n",
    "    # initialize counter\n",
    "    k = 0\n",
    "    \n",
    "    # end length of for loop value\n",
    "    end = (len(weights) - 1) if len(weights) > 1 else 1\n",
    "    \n",
    "    pbar = ProgressBar()\n",
    "    \n",
    "    for i in pbar(range(0 , end)) :\n",
    "        \n",
    "        # identify rebalance from and to dates and           \n",
    "        # subset the Returns object\n",
    "        fm = weights.index[i] + pd.DateOffset(days=1)        \n",
    "        \n",
    "        if (i == (len(weights) - 1)):        \n",
    "            to = R.index[-1]\n",
    "        else :\n",
    "            to = weights.index[i + 1]            \n",
    "        \n",
    "        returns = R.loc[fm : to, ]\n",
    "\n",
    "        # Only enter the loop if we have a valid returns object\n",
    "        if len(returns) >= 1 :\n",
    "            \n",
    "            # inner loop counter        \n",
    "            jj = 0\n",
    "\n",
    "            for j in range(0, len(returns) ) :\n",
    "\n",
    "                # We need to know when we are at the start of this inner loop so we can\n",
    "                # set the correct beginning of period value. We start a new inner loop\n",
    "                # at each rebalance date.\n",
    "                \n",
    "                # Compute beginning of period values                    \n",
    "                if jj == 0 :\n",
    "                    bop_value.iloc[k, :] = end_value * weights.iloc[i, :].values\n",
    "                else :\n",
    "                    bop_value.iloc[k, :] = eop_value.iloc[k-1, :]\n",
    "\n",
    "                bop_value_total.iloc[k] = bop_value.iloc[k, :].sum()                \n",
    "                                \n",
    "                # Compute end of period values\n",
    "                eop_value.iloc[k, :] = (1 + returns.iloc[j, :]).values * bop_value.iloc[k, :].values\n",
    "                eop_value_total.iloc[k] = eop_value.iloc[k, :].sum()\n",
    "\n",
    "                # Compute BOP and EOP weights\n",
    "                bop_weights.iloc[k, :] = bop_value.iloc[k, :] / float(bop_value_total.iloc[k])\n",
    "                eop_weights.iloc[k, :] = eop_value.iloc[k, :] / float(eop_value_total.iloc[k])\n",
    "                                   \n",
    "                # Compute period contribution\n",
    "                period_contrib.iloc[k, :] = returns.iloc[j, :].values * bop_value.iloc[k, :].values / sum(bop_value.iloc[k, :])\n",
    "                \n",
    "                # Compute portfolio returns\n",
    "                ret.iloc[k] = eop_value_total.iloc[k] / end_value - 1\n",
    "                \n",
    "                # Update end_value\n",
    "                end_value = float(eop_value_total.iloc[k])\n",
    "\n",
    "                # increment the counters            \n",
    "                jj += 1\n",
    "                k += 1\n",
    "\n",
    "    result = {'returns' : ret, 'BOP_weights' : bop_weights, 'EOP_weights' : eop_weights, 'contribution': period_contrib,\n",
    "             'BOP_value' : bop_value, 'EOP_value' : eop_value}   \n",
    "    \n",
    "    \n",
    "    return(result)"
   ]
  },
  {
   "cell_type": "code",
   "execution_count": 25,
   "metadata": {},
   "outputs": [],
   "source": [
    "import pandas as pd\n",
    "import numpy as np\n",
    "from progressbar import ProgressBar\n",
    "import pandas_datareader as web\n",
    "\n",
    "# tickers = ['SPY', 'TLT']\n",
    "tickers = ['VTSMX', 'VBMFX']\n",
    "all_data = {}\n",
    "for ticker in tickers:\n",
    "    all_data[ticker] = web.DataReader(ticker, 'yahoo', start = '2003-01-01')    \n",
    "\n",
    "prices = pd.DataFrame({tic: data['Adj Close'] for tic, data in all_data.items()})\n",
    "R = prices.pct_change(1).dropna()"
   ]
  },
  {
   "cell_type": "code",
   "execution_count": null,
   "metadata": {},
   "outputs": [],
   "source": [
    "import FinanceDataReader as fdr\n"
   ]
  },
  {
   "cell_type": "code",
   "execution_count": 26,
   "metadata": {},
   "outputs": [
    {
     "data": {
      "text/html": [
       "<div>\n",
       "<style scoped>\n",
       "    .dataframe tbody tr th:only-of-type {\n",
       "        vertical-align: middle;\n",
       "    }\n",
       "\n",
       "    .dataframe tbody tr th {\n",
       "        vertical-align: top;\n",
       "    }\n",
       "\n",
       "    .dataframe thead th {\n",
       "        text-align: right;\n",
       "    }\n",
       "</style>\n",
       "<table border=\"1\" class=\"dataframe\">\n",
       "  <thead>\n",
       "    <tr style=\"text-align: right;\">\n",
       "      <th></th>\n",
       "      <th>VTSMX</th>\n",
       "      <th>VBMFX</th>\n",
       "    </tr>\n",
       "    <tr>\n",
       "      <th>Date</th>\n",
       "      <th></th>\n",
       "      <th></th>\n",
       "    </tr>\n",
       "  </thead>\n",
       "  <tbody>\n",
       "    <tr>\n",
       "      <th>2003-01-02</th>\n",
       "      <td>0.030892</td>\n",
       "      <td>-0.007707</td>\n",
       "    </tr>\n",
       "    <tr>\n",
       "      <th>2003-01-03</th>\n",
       "      <td>-0.000967</td>\n",
       "      <td>0.000000</td>\n",
       "    </tr>\n",
       "    <tr>\n",
       "      <th>2003-01-06</th>\n",
       "      <td>0.020803</td>\n",
       "      <td>0.000000</td>\n",
       "    </tr>\n",
       "    <tr>\n",
       "      <th>2003-01-07</th>\n",
       "      <td>-0.006635</td>\n",
       "      <td>0.001941</td>\n",
       "    </tr>\n",
       "    <tr>\n",
       "      <th>2003-01-08</th>\n",
       "      <td>-0.012881</td>\n",
       "      <td>0.001939</td>\n",
       "    </tr>\n",
       "    <tr>\n",
       "      <th>...</th>\n",
       "      <td>...</td>\n",
       "      <td>...</td>\n",
       "    </tr>\n",
       "    <tr>\n",
       "      <th>2021-02-24</th>\n",
       "      <td>0.011692</td>\n",
       "      <td>-0.001765</td>\n",
       "    </tr>\n",
       "    <tr>\n",
       "      <th>2021-02-25</th>\n",
       "      <td>-0.026502</td>\n",
       "      <td>-0.007073</td>\n",
       "    </tr>\n",
       "    <tr>\n",
       "      <th>2021-02-26</th>\n",
       "      <td>-0.003173</td>\n",
       "      <td>0.008014</td>\n",
       "    </tr>\n",
       "    <tr>\n",
       "      <th>2021-03-01</th>\n",
       "      <td>0.025051</td>\n",
       "      <td>-0.001767</td>\n",
       "    </tr>\n",
       "    <tr>\n",
       "      <th>2021-03-02</th>\n",
       "      <td>-0.009715</td>\n",
       "      <td>0.000885</td>\n",
       "    </tr>\n",
       "  </tbody>\n",
       "</table>\n",
       "<p>4572 rows × 2 columns</p>\n",
       "</div>"
      ],
      "text/plain": [
       "               VTSMX     VBMFX\n",
       "Date                          \n",
       "2003-01-02  0.030892 -0.007707\n",
       "2003-01-03 -0.000967  0.000000\n",
       "2003-01-06  0.020803  0.000000\n",
       "2003-01-07 -0.006635  0.001941\n",
       "2003-01-08 -0.012881  0.001939\n",
       "...              ...       ...\n",
       "2021-02-24  0.011692 -0.001765\n",
       "2021-02-25 -0.026502 -0.007073\n",
       "2021-02-26 -0.003173  0.008014\n",
       "2021-03-01  0.025051 -0.001767\n",
       "2021-03-02 -0.009715  0.000885\n",
       "\n",
       "[4572 rows x 2 columns]"
      ]
     },
     "execution_count": 26,
     "metadata": {},
     "output_type": "execute_result"
    }
   ],
   "source": [
    "R"
   ]
  },
  {
   "cell_type": "code",
   "execution_count": 16,
   "metadata": {},
   "outputs": [
    {
     "name": "stderr",
     "output_type": "stream",
     "text": [
      "100% |########################################################################|\n"
     ]
    }
   ],
   "source": [
    "reb_no = ReturnPortfolio(R, [0.6, 0.4])"
   ]
  },
  {
   "cell_type": "code",
   "execution_count": 24,
   "metadata": {},
   "outputs": [
    {
     "data": {
      "text/plain": [
       "{'returns':             Portfolio\n",
       " Date                 \n",
       " 2003-01-02   0.015452\n",
       " 2003-01-03  -0.000589\n",
       " 2003-01-06   0.012667\n",
       " 2003-01-07  -0.003323\n",
       " 2003-01-08  -0.007127\n",
       " ...               ...\n",
       " 2021-02-24   0.009487\n",
       " 2021-02-25  -0.023353\n",
       " 2021-02-26  -0.001329\n",
       " 2021-03-01   0.020591\n",
       " 2021-03-02  -0.007991\n",
       " \n",
       " [4572 rows x 1 columns],\n",
       " 'BOP_weights':                VTSMX     VBMFX\n",
       " Date                          \n",
       " 2003-01-02  0.600000  0.400000\n",
       " 2003-01-03  0.609123  0.390877\n",
       " 2003-01-06  0.608893  0.391107\n",
       " 2003-01-07  0.613785  0.386215\n",
       " 2003-01-08  0.611745  0.388255\n",
       " ...              ...       ...\n",
       " 2021-02-24  0.836087  0.163913\n",
       " 2021-02-25  0.837914  0.162086\n",
       " 2021-02-26  0.835212  0.164788\n",
       " 2021-03-01  0.833670  0.166330\n",
       " 2021-03-02  0.837314  0.162686\n",
       " \n",
       " [4572 rows x 2 columns],\n",
       " 'EOP_weights':                VTSMX     VBMFX\n",
       " Date                          \n",
       " 2003-01-02  0.609123  0.390877\n",
       " 2003-01-03  0.608893  0.391107\n",
       " 2003-01-06  0.613785  0.386215\n",
       " 2003-01-07  0.611745  0.388255\n",
       " 2003-01-08  0.608200  0.391800\n",
       " ...              ...       ...\n",
       " 2021-02-24  0.837914  0.162086\n",
       " 2021-02-25  0.835212  0.164788\n",
       " 2021-02-26  0.833670  0.166330\n",
       " 2021-03-01  0.837314  0.162686\n",
       " 2021-03-02  0.835858  0.164142\n",
       " \n",
       " [4572 rows x 2 columns],\n",
       " 'contribution':                VTSMX     VBMFX\n",
       " Date                          \n",
       " 2003-01-02  0.018535 -0.003083\n",
       " 2003-01-03 -0.000589  0.000000\n",
       " 2003-01-06  0.012667  0.000000\n",
       " 2003-01-07 -0.004072  0.000750\n",
       " 2003-01-08 -0.007880  0.000753\n",
       " ...              ...       ...\n",
       " 2021-02-24  0.009776 -0.000289\n",
       " 2021-02-25 -0.022206 -0.001147\n",
       " 2021-02-26 -0.002650  0.001321\n",
       " 2021-03-01  0.020885 -0.000294\n",
       " 2021-03-02 -0.008135  0.000144\n",
       " \n",
       " [4572 rows x 2 columns],\n",
       " 'BOP_value':                VTSMX     VBMFX\n",
       " Date                          \n",
       " 2003-01-02  0.600000  0.400000\n",
       " 2003-01-03  0.618535  0.396917\n",
       " 2003-01-06  0.617937  0.396917\n",
       " 2003-01-07  0.630792  0.396917\n",
       " 2003-01-08  0.626607  0.397688\n",
       " ...              ...       ...\n",
       " 2021-02-24  4.091036  0.802041\n",
       " 2021-02-25  4.138870  0.800625\n",
       " 2021-02-26  4.029182  0.794962\n",
       " 2021-03-01  4.016399  0.801333\n",
       " 2021-03-02  4.117015  0.799918\n",
       " \n",
       " [4572 rows x 2 columns],\n",
       " 'EOP_value':                VTSMX     VBMFX\n",
       " Date                          \n",
       " 2003-01-02  0.618535  0.396917\n",
       " 2003-01-03  0.617937  0.396917\n",
       " 2003-01-06  0.630792  0.396917\n",
       " 2003-01-07  0.626607  0.397688\n",
       " 2003-01-08  0.618535  0.398459\n",
       " ...              ...       ...\n",
       " 2021-02-24  4.138870  0.800625\n",
       " 2021-02-25  4.029182  0.794962\n",
       " 2021-02-26  4.016399  0.801333\n",
       " 2021-03-01  4.117015  0.799918\n",
       " 2021-03-02  4.077016  0.800625\n",
       " \n",
       " [4572 rows x 2 columns]}"
      ]
     },
     "execution_count": 24,
     "metadata": {},
     "output_type": "execute_result"
    }
   ],
   "source": [
    "reb_no"
   ]
  },
  {
   "cell_type": "code",
   "execution_count": 18,
   "metadata": {},
   "outputs": [
    {
     "data": {
      "text/html": [
       "<div>\n",
       "<style scoped>\n",
       "    .dataframe tbody tr th:only-of-type {\n",
       "        vertical-align: middle;\n",
       "    }\n",
       "\n",
       "    .dataframe tbody tr th {\n",
       "        vertical-align: top;\n",
       "    }\n",
       "\n",
       "    .dataframe thead th {\n",
       "        text-align: right;\n",
       "    }\n",
       "</style>\n",
       "<table border=\"1\" class=\"dataframe\">\n",
       "  <thead>\n",
       "    <tr style=\"text-align: right;\">\n",
       "      <th></th>\n",
       "      <th>VTSMX</th>\n",
       "      <th>VBMFX</th>\n",
       "    </tr>\n",
       "    <tr>\n",
       "      <th>Date</th>\n",
       "      <th></th>\n",
       "      <th></th>\n",
       "    </tr>\n",
       "  </thead>\n",
       "  <tbody>\n",
       "    <tr>\n",
       "      <th>2003-01-02</th>\n",
       "      <td>0.600000</td>\n",
       "      <td>0.400000</td>\n",
       "    </tr>\n",
       "    <tr>\n",
       "      <th>2003-01-03</th>\n",
       "      <td>0.609123</td>\n",
       "      <td>0.390877</td>\n",
       "    </tr>\n",
       "    <tr>\n",
       "      <th>2003-01-06</th>\n",
       "      <td>0.608893</td>\n",
       "      <td>0.391107</td>\n",
       "    </tr>\n",
       "    <tr>\n",
       "      <th>2003-01-07</th>\n",
       "      <td>0.613785</td>\n",
       "      <td>0.386215</td>\n",
       "    </tr>\n",
       "    <tr>\n",
       "      <th>2003-01-08</th>\n",
       "      <td>0.611745</td>\n",
       "      <td>0.388255</td>\n",
       "    </tr>\n",
       "  </tbody>\n",
       "</table>\n",
       "</div>"
      ],
      "text/plain": [
       "               VTSMX     VBMFX\n",
       "Date                          \n",
       "2003-01-02  0.600000  0.400000\n",
       "2003-01-03  0.609123  0.390877\n",
       "2003-01-06  0.608893  0.391107\n",
       "2003-01-07  0.613785  0.386215\n",
       "2003-01-08  0.611745  0.388255"
      ]
     },
     "execution_count": 18,
     "metadata": {},
     "output_type": "execute_result"
    }
   ],
   "source": [
    "reb_no['BOP_weights'].head()"
   ]
  },
  {
   "cell_type": "code",
   "execution_count": 19,
   "metadata": {},
   "outputs": [
    {
     "data": {
      "text/plain": [
       "<AxesSubplot:xlabel='Date'>"
      ]
     },
     "execution_count": 19,
     "metadata": {},
     "output_type": "execute_result"
    },
    {
     "data": {
      "image/png": "[encoded data removed]",
      "text/plain": [
       "<Figure size 720x432 with 1 Axes>"
      ]
     },
     "metadata": {
      "needs_background": "light"
     },
     "output_type": "display_data"
    }
   ],
   "source": [
    "reb_no['BOP_weights'].plot.area(figsize = (10, 6))"
   ]
  },
  {
   "cell_type": "code",
   "execution_count": 20,
   "metadata": {},
   "outputs": [
    {
     "name": "stderr",
     "output_type": "stream",
     "text": [
      "100% |########################################################################|\n"
     ]
    }
   ],
   "source": [
    "reb_m = ReturnPortfolio(R, [0.6, 0.4], 'M')"
   ]
  },
  {
   "cell_type": "code",
   "execution_count": 21,
   "metadata": {},
   "outputs": [
    {
     "data": {
      "text/plain": [
       "<AxesSubplot:xlabel='Date'>"
      ]
     },
     "execution_count": 21,
     "metadata": {},
     "output_type": "execute_result"
    },
    {
     "data": {
      "image/png": "[encoded data removed]",
      "text/plain": [
       "<Figure size 720x432 with 1 Axes>"
      ]
     },
     "metadata": {
      "needs_background": "light"
     },
     "output_type": "display_data"
    }
   ],
   "source": [
    "reb_m['BOP_weights'].plot.area(figsize = (10, 6))"
   ]
  },
  {
   "cell_type": "code",
   "execution_count": 22,
   "metadata": {},
   "outputs": [
    {
     "data": {
      "text/plain": [
       "<AxesSubplot:xlabel='Date'>"
      ]
     },
     "execution_count": 22,
     "metadata": {},
     "output_type": "execute_result"
    },
    {
     "data": {
      "image/png": "[encoded data removed]",
      "text/plain": [
       "<Figure size 720x432 with 1 Axes>"
      ]
     },
     "metadata": {
      "needs_background": "light"
     },
     "output_type": "display_data"
    }
   ],
   "source": [
    "reb_m['returns'].add(1).cumprod().add(-1).plot(legend = False, figsize = (10, 6))"
   ]
  },
  {
   "cell_type": "code",
   "execution_count": null,
   "metadata": {},
   "outputs": [],
   "source": []
  }
 ],
 "metadata": {
  "kernelspec": {
   "display_name": "Python 3",
   "language": "python",
   "name": "python3"
  },
  "language_info": {
   "codemirror_mode": {
    "name": "ipython",
    "version": 3
   },
   "file_extension": ".py",
   "mimetype": "text/x-python",
   "name": "python",
   "nbconvert_exporter": "python",
   "pygments_lexer": "ipython3",
   "version": "3.9.4"
  },
  "toc": {
   "base_numbering": 1,
   "nav_menu": {},
   "number_sections": true,
   "sideBar": true,
   "skip_h1_title": false,
   "title_cell": "Table of Contents",
   "title_sidebar": "Contents",
   "toc_cell": false,
   "toc_position": {},
   "toc_section_display": true,
   "toc_window_display": false
  }
 },
 "nbformat": 4,
 "nbformat_minor": 4
}
